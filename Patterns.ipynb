{
 "cells": [
  {
   "cell_type": "code",
   "execution_count": 1,
   "id": "55246f3b",
   "metadata": {},
   "outputs": [
    {
     "name": "stdout",
     "output_type": "stream",
     "text": [
      "########\n",
      "\n",
      "########\n",
      "\n",
      "########\n",
      "\n",
      "########\n",
      "\n"
     ]
    }
   ],
   "source": [
    "for i in range(0,4):\n",
    "    for j in range(0,8):\n",
    "        print(\"#\", end=\"\")\n",
    "    print(\"\\n\")"
   ]
  },
  {
   "cell_type": "code",
   "execution_count": 2,
   "id": "8befdd92",
   "metadata": {},
   "outputs": [
    {
     "name": "stdout",
     "output_type": "stream",
     "text": [
      "########\n",
      " ######\n",
      "  ####\n",
      "   ##\n"
     ]
    }
   ],
   "source": [
    "for i in range(0,4):\n",
    "    symbol=i*2\n",
    "    j=8\n",
    "    for k in range(0,j):\n",
    "        temp=j-symbol\n",
    "        print(i*\" \"+temp*\"#\")\n",
    "        break"
   ]
  },
  {
   "cell_type": "code",
   "execution_count": 3,
   "id": "c30ec76f",
   "metadata": {},
   "outputs": [
    {
     "name": "stdout",
     "output_type": "stream",
     "text": [
      "########\n",
      " ######\n",
      "  ####\n",
      "   ##\n"
     ]
    }
   ],
   "source": [
    "for i in range(4):\n",
    "    print(\" \" * i + \"#\" * (8 - 2 * i))"
   ]
  },
  {
   "cell_type": "code",
   "execution_count": null,
   "id": "1e2ffa4a",
   "metadata": {},
   "outputs": [],
   "source": []
  },
  {
   "cell_type": "code",
   "execution_count": 4,
   "id": "e76e122e",
   "metadata": {},
   "outputs": [
    {
     "name": "stdout",
     "output_type": "stream",
     "text": [
      "    #\n",
      "   ##\n",
      "  ###\n",
      " ####\n",
      "#####\n",
      " ####\n",
      "  ###\n",
      "   ##\n",
      "    #\n"
     ]
    }
   ],
   "source": [
    "j=10\n",
    "for i in range(1,j):\n",
    "    half=j//2\n",
    "#     print(half-abs(half-i))\n",
    "    replican=half-abs(half-i)\n",
    "    print(\" \"*abs(half-i)+replican*\"#\")"
   ]
  },
  {
   "cell_type": "code",
   "execution_count": 5,
   "id": "6b8db24b",
   "metadata": {},
   "outputs": [
    {
     "name": "stdout",
     "output_type": "stream",
     "text": [
      "3\n",
      "2\n",
      "1\n",
      "0\n",
      "1\n",
      "2\n",
      "3\n"
     ]
    }
   ],
   "source": [
    "j=8\n",
    "for i in range(1,j):\n",
    "    half=j//2\n",
    "    print(abs(half-i))"
   ]
  },
  {
   "cell_type": "code",
   "execution_count": 6,
   "id": "1946e65c",
   "metadata": {
    "scrolled": true
   },
   "outputs": [
    {
     "name": "stdout",
     "output_type": "stream",
     "text": [
      "#\n",
      "##\n",
      "###\n",
      "####\n",
      "#####\n",
      "####\n",
      "###\n",
      "##\n",
      "#\n"
     ]
    }
   ],
   "source": [
    "j=10\n",
    "for i in range(1,j):\n",
    "    half=j//2\n",
    "    replican=half-abs(half-i)\n",
    "    print(replican*\"#\")"
   ]
  },
  {
   "cell_type": "code",
   "execution_count": 7,
   "id": "851727de",
   "metadata": {
    "scrolled": true
   },
   "outputs": [
    {
     "name": "stdout",
     "output_type": "stream",
     "text": [
      "\n",
      "\n",
      "\n",
      "#\n",
      "##\n",
      "###\n",
      "####\n",
      "####\n",
      "###\n",
      "##\n",
      "#\n",
      "\n",
      "\n",
      "\n"
     ]
    }
   ],
   "source": [
    "z=8\n",
    "for i in range(1,z):\n",
    "    space=z//2\n",
    "#     print(abs(space-i))\n",
    "\n",
    "j=15\n",
    "half=j//2\n",
    "for i in range(0,j):\n",
    "    if (abs(i-half)!=0):\n",
    "        transf=5-abs(i-half)\n",
    "        print(transf*\"#\")\n",
    "#         print(i)"
   ]
  },
  {
   "cell_type": "code",
   "execution_count": 8,
   "id": "6b72a484",
   "metadata": {},
   "outputs": [
    {
     "name": "stdout",
     "output_type": "stream",
     "text": [
      "3\n",
      "2\n",
      "1\n",
      "0\n",
      "1\n",
      "2\n",
      "3\n"
     ]
    }
   ],
   "source": [
    "z=8\n",
    "for i in range(1,z):\n",
    "    half=z//2\n",
    "    print(abs(half-i))"
   ]
  },
  {
   "cell_type": "code",
   "execution_count": 9,
   "id": "2e626e4f",
   "metadata": {},
   "outputs": [
    {
     "name": "stdout",
     "output_type": "stream",
     "text": [
      "    ##\n",
      "   ####\n",
      "  ######\n",
      " ########\n",
      " ########\n",
      "  ######\n",
      "   ####\n",
      "    ##\n"
     ]
    }
   ],
   "source": [
    "j=10\n",
    "for i in range(1,j):\n",
    "    half=j//2\n",
    "    #print(half-abs(half-i))\n",
    "    if (i!=half):\n",
    "        replican=half-abs(half-i)\n",
    "        print((\" \"*abs(half-i)+replican*\"#\")+replican*\"#\")\n",
    "#         print(replican)"
   ]
  },
  {
   "cell_type": "code",
   "execution_count": null,
   "id": "579925ac",
   "metadata": {},
   "outputs": [],
   "source": []
  },
  {
   "cell_type": "code",
   "execution_count": 10,
   "id": "08858eb6",
   "metadata": {},
   "outputs": [
    {
     "name": "stdout",
     "output_type": "stream",
     "text": [
      "########\n",
      "  ######\n",
      "    ####\n",
      "      ##\n",
      "      ##\n",
      "    ####\n",
      "  ######\n",
      "########\n"
     ]
    }
   ],
   "source": [
    "for i in range(4):\n",
    "    print(\" \" * (2 * i) + \"#\" * (8 - 2 * i))\n",
    "for i in range(4):\n",
    "    print(\" \" * (6 - 2 * i) + \"#\" * (2 * i + 2))\n"
   ]
  },
  {
   "cell_type": "code",
   "execution_count": 11,
   "id": "beb92d41",
   "metadata": {},
   "outputs": [
    {
     "name": "stdout",
     "output_type": "stream",
     "text": [
      "   ##\n",
      "  ####\n",
      " ######\n",
      "########\n",
      " ######\n",
      "  ####\n",
      "   ##\n",
      "    \n"
     ]
    }
   ],
   "source": [
    "for i in range(4):\n",
    "    print(\" \" * (3 - i) + \"#\" * (2 * i + 2))\n",
    "for i in range(4):\n",
    "    print(\" \" * (i + 1) + \"#\" * (6 - 2 * i))\n"
   ]
  },
  {
   "cell_type": "code",
   "execution_count": 12,
   "id": "3f2450c5",
   "metadata": {},
   "outputs": [
    {
     "name": "stdout",
     "output_type": "stream",
     "text": [
      "##############\n",
      "##############\n",
      "##############\n",
      "##############\n",
      "##############\n",
      "##############\n",
      "##############\n",
      "##############\n"
     ]
    }
   ],
   "source": [
    "for i in range(1,9):\n",
    "    for j in range(1,15):\n",
    "        print(\"#\",end=\"\")\n",
    "    print(\"\")"
   ]
  },
  {
   "cell_type": "code",
   "execution_count": 13,
   "id": "19ab9315",
   "metadata": {},
   "outputs": [
    {
     "name": "stdout",
     "output_type": "stream",
     "text": [
      "######\n",
      "######\n",
      "######\n",
      "######\n",
      "######\n",
      "######\n",
      "######\n",
      "######\n"
     ]
    }
   ],
   "source": [
    "for i in range(1,9):\n",
    "    for j in range(1,7):\n",
    "        print(\"#\",end=\"\")\n",
    "    print(\"\")"
   ]
  },
  {
   "cell_type": "code",
   "execution_count": 14,
   "id": "2eaa000a",
   "metadata": {},
   "outputs": [
    {
     "data": {
      "text/plain": [
       "0"
      ]
     },
     "execution_count": 14,
     "metadata": {},
     "output_type": "execute_result"
    }
   ],
   "source": [
    "0\n",
    "1\n",
    "2\n",
    "3\n",
    "4\n",
    "3\n",
    "2\n",
    "1\n",
    "0"
   ]
  },
  {
   "cell_type": "code",
   "execution_count": 22,
   "id": "40830804",
   "metadata": {},
   "outputs": [
    {
     "name": "stdout",
     "output_type": "stream",
     "text": [
      "#            #\n",
      " ##        ##\n",
      "  ###    ###\n",
      "   ########\n",
      "   ########\n",
      "  ###    ###\n",
      " ##        ##\n",
      "#            #\n"
     ]
    }
   ],
   "source": [
    "j=9\n",
    "for i in range(0,j):\n",
    "    if (i!=j//2 and i!=j//3 and i!=j//2+1 and i<j//3):\n",
    "        print(\" \"*(j//2-abs(j//2-i))+\"#\"*(i+1)+\" \"*(j//2*(3-i))+\"#\"*(i+1))\n",
    "    if (j//2-abs(j//2-i)==j//3):\n",
    "        print(\" \"*(j//2-abs(j//2-i))+\"#\"*(j//2)*2)\n",
    "    if (i!=j//2 and i!=j//3 and i!=j//2+1 and i>j//3):\n",
    "        print(\" \"*(j//2-abs(j//2-i))+\"#\"*(4-abs((j+1)//2-(i+1))+1)+\" \"*(j//2*(i-5))+\"#\"*(9-i))\n",
    "            \n",
    "    "
   ]
  },
  {
   "cell_type": "code",
   "execution_count": 16,
   "id": "d5d9de38",
   "metadata": {},
   "outputs": [
    {
     "data": {
      "text/plain": [
       "4"
      ]
     },
     "execution_count": 16,
     "metadata": {},
     "output_type": "execute_result"
    }
   ],
   "source": [
    "9//2"
   ]
  },
  {
   "cell_type": "code",
   "execution_count": 17,
   "id": "3d441794",
   "metadata": {},
   "outputs": [
    {
     "name": "stdout",
     "output_type": "stream",
     "text": [
      "1\n",
      "2\n",
      "3\n",
      "4\n",
      "4\n",
      "3\n",
      "2\n",
      "1\n"
     ]
    }
   ],
   "source": [
    "o=10\n",
    "for i in range(1,o):\n",
    "    if (i!=o//2):\n",
    "        print(4-abs(o//2-i)+1)"
   ]
  },
  {
   "cell_type": "code",
   "execution_count": 18,
   "id": "fa3416ce",
   "metadata": {},
   "outputs": [
    {
     "data": {
      "text/plain": [
       "4"
      ]
     },
     "execution_count": 18,
     "metadata": {},
     "output_type": "execute_result"
    }
   ],
   "source": [
    "9//2"
   ]
  },
  {
   "cell_type": "code",
   "execution_count": 19,
   "id": "9f9d71e9",
   "metadata": {},
   "outputs": [
    {
     "name": "stdout",
     "output_type": "stream",
     "text": [
      "#\n",
      "##\n",
      "###\n",
      "####\n",
      "####\n",
      "###\n",
      "##\n",
      "#\n"
     ]
    }
   ],
   "source": [
    "o=10\n",
    "for i in range(1,o):\n",
    "    if (i!=o//2):\n",
    "        print((4-abs(o//2-i)+1)*\"#\")"
   ]
  },
  {
   "cell_type": "code",
   "execution_count": 23,
   "id": "c03704b9",
   "metadata": {},
   "outputs": [
    {
     "data": {
      "text/plain": [
       "'   1  1  12\\n      2  2  08\\n      3  3  04\\n      4  4  00\\n      5  4  00\\n      6  3  04  4x1=4\\n      7  2  08  4x2=8\\n      8  1  12  4x3=12 '"
      ]
     },
     "execution_count": 23,
     "metadata": {},
     "output_type": "execute_result"
    }
   ],
   "source": [
    "\"\"\"   1  1  12\n",
    "      2  2  08\n",
    "      3  3  04\n",
    "      4  4  00\n",
    "      5  4  00\n",
    "      6  3  04  4x1=4\n",
    "      7  2  08  4x2=8\n",
    "      8  1  12  4x3=12 \"\"\""
   ]
  },
  {
   "cell_type": "code",
   "execution_count": null,
   "id": "d0458ca7",
   "metadata": {},
   "outputs": [],
   "source": []
  },
  {
   "cell_type": "code",
   "execution_count": null,
   "id": "b4490e2b",
   "metadata": {},
   "outputs": [],
   "source": []
  }
 ],
 "metadata": {
  "kernelspec": {
   "display_name": "Python 3 (ipykernel)",
   "language": "python",
   "name": "python3"
  },
  "language_info": {
   "codemirror_mode": {
    "name": "ipython",
    "version": 3
   },
   "file_extension": ".py",
   "mimetype": "text/x-python",
   "name": "python",
   "nbconvert_exporter": "python",
   "pygments_lexer": "ipython3",
   "version": "3.9.12"
  }
 },
 "nbformat": 4,
 "nbformat_minor": 5
}
