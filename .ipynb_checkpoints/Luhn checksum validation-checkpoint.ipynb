{
 "cells": [
  {
   "cell_type": "code",
   "execution_count": 206,
   "id": "a3c6b659",
   "metadata": {},
   "outputs": [
    {
     "name": "stdout",
     "output_type": "stream",
     "text": [
      "enter digits from 0 to 9 only1\n",
      "enter digits from 0 to 9 only7\n",
      "enter digits from 0 to 9 only6\n",
      "enter digits from 0 to 9 only2\n",
      "enter digits from 0 to 9 only4\n",
      "enter digits from 0 to 9 only8\n",
      "enter digits from 0 to 9 only\n"
     ]
    }
   ],
   "source": [
    "elements=[]\n",
    "while(True):\n",
    "    try:\n",
    "        ip=int(input(\"enter digits from 0 to 9 only\"))\n",
    "        elements.append(ip)\n",
    "    except ValueError:\n",
    "        break;\n",
    "    "
   ]
  },
  {
   "cell_type": "code",
   "execution_count": 207,
   "id": "1a5dc688",
   "metadata": {},
   "outputs": [
    {
     "data": {
      "text/plain": [
       "[1, 7, 6, 2, 4, 8]"
      ]
     },
     "execution_count": 207,
     "metadata": {},
     "output_type": "execute_result"
    }
   ],
   "source": [
    "elements"
   ]
  },
  {
   "cell_type": "code",
   "execution_count": 208,
   "id": "f457dd99",
   "metadata": {},
   "outputs": [
    {
     "data": {
      "text/plain": [
       "<function list.index(value, start=0, stop=9223372036854775807, /)>"
      ]
     },
     "execution_count": 208,
     "metadata": {},
     "output_type": "execute_result"
    }
   ],
   "source": [
    "elements.index"
   ]
  },
  {
   "cell_type": "code",
   "execution_count": 209,
   "id": "f8ba1308",
   "metadata": {},
   "outputs": [
    {
     "name": "stdout",
     "output_type": "stream",
     "text": [
      "16\n",
      "4\n",
      "4\n",
      "6\n",
      "14\n",
      "1\n"
     ]
    }
   ],
   "source": [
    "getem=[]\n",
    "position=len(elements)-1\n",
    "for i in range(0,len(elements)):\n",
    "    if len(elements)%2==0:\n",
    "        if position%2!=0:\n",
    "            print(elements[position]*2)\n",
    "            getem.append(elements[position]*2)\n",
    "            position-=1\n",
    "        else:\n",
    "            print(elements[position])\n",
    "            getem.append(elements[position])\n",
    "            position-=1\n",
    "    if len(elements)%2!=0:\n",
    "        if position%2==0:\n",
    "            print(elements[position]*2)\n",
    "            getem.append(elements[position]*2)\n",
    "            position-=1\n",
    "        else:\n",
    "            print(elements[position])\n",
    "            getem.append(elements[position])\n",
    "            position-=1"
   ]
  },
  {
   "cell_type": "code",
   "execution_count": 210,
   "id": "e35c20c9",
   "metadata": {},
   "outputs": [],
   "source": [
    "preprocessed_1=getem[::-1]"
   ]
  },
  {
   "cell_type": "code",
   "execution_count": 211,
   "id": "fc227033",
   "metadata": {},
   "outputs": [
    {
     "data": {
      "text/plain": [
       "[1, 14, 6, 4, 4, 16]"
      ]
     },
     "execution_count": 211,
     "metadata": {},
     "output_type": "execute_result"
    }
   ],
   "source": [
    "preprocessed_1"
   ]
  },
  {
   "cell_type": "code",
   "execution_count": 212,
   "id": "73c5aad9",
   "metadata": {
    "scrolled": true
   },
   "outputs": [],
   "source": [
    "devise=[]\n",
    "for i in preprocessed_1:\n",
    "    if (i > 9 and i <= 99):\n",
    "        devise.append(1+i%10)\n",
    "    if (i < 10):\n",
    "        devise.append(i)\n",
    "        "
   ]
  },
  {
   "cell_type": "code",
   "execution_count": 213,
   "id": "14248174",
   "metadata": {},
   "outputs": [
    {
     "data": {
      "text/plain": [
       "[1, 5, 6, 4, 4, 7]"
      ]
     },
     "execution_count": 213,
     "metadata": {},
     "output_type": "execute_result"
    }
   ],
   "source": [
    "devise"
   ]
  },
  {
   "cell_type": "code",
   "execution_count": 214,
   "id": "25e05763",
   "metadata": {},
   "outputs": [],
   "source": [
    "chcksum=sum(devise)"
   ]
  },
  {
   "cell_type": "code",
   "execution_count": 221,
   "id": "2a42df23",
   "metadata": {},
   "outputs": [
    {
     "data": {
      "text/plain": [
       "27"
      ]
     },
     "execution_count": 221,
     "metadata": {},
     "output_type": "execute_result"
    }
   ],
   "source": [
    "chcksum"
   ]
  },
  {
   "cell_type": "code",
   "execution_count": 215,
   "id": "bf8e9b38",
   "metadata": {},
   "outputs": [
    {
     "name": "stdout",
     "output_type": "stream",
     "text": [
      "Invalid\n"
     ]
    }
   ],
   "source": [
    "if (chcksum%10==0): #if checksum is valid if it is divisible by 10\n",
    "    print(\"Valid\")\n",
    "else:\n",
    "    print(\"Invalid\")"
   ]
  },
  {
   "cell_type": "code",
   "execution_count": 216,
   "id": "21edc0ec",
   "metadata": {},
   "outputs": [
    {
     "name": "stdout",
     "output_type": "stream",
     "text": [
      "30\n"
     ]
    }
   ],
   "source": [
    "x = chcksum\n",
    "rounded_x = round(x / 10) * 10\n",
    "print(rounded_x)"
   ]
  },
  {
   "cell_type": "code",
   "execution_count": 219,
   "id": "825a4f40",
   "metadata": {},
   "outputs": [],
   "source": [
    "checkdigit=abs(x-rounded_x)"
   ]
  },
  {
   "cell_type": "code",
   "execution_count": 220,
   "id": "00ed1649",
   "metadata": {},
   "outputs": [
    {
     "data": {
      "text/plain": [
       "3"
      ]
     },
     "execution_count": 220,
     "metadata": {},
     "output_type": "execute_result"
    }
   ],
   "source": [
    "checkdigit"
   ]
  },
  {
   "cell_type": "code",
   "execution_count": null,
   "id": "e735043c",
   "metadata": {},
   "outputs": [],
   "source": []
  }
 ],
 "metadata": {
  "kernelspec": {
   "display_name": "Python 3 (ipykernel)",
   "language": "python",
   "name": "python3"
  },
  "language_info": {
   "codemirror_mode": {
    "name": "ipython",
    "version": 3
   },
   "file_extension": ".py",
   "mimetype": "text/x-python",
   "name": "python",
   "nbconvert_exporter": "python",
   "pygments_lexer": "ipython3",
   "version": "3.9.12"
  }
 },
 "nbformat": 4,
 "nbformat_minor": 5
}
