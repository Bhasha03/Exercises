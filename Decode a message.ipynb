{
 "cells": [
  {
   "cell_type": "code",
   "execution_count": 1,
   "id": "8959374f",
   "metadata": {},
   "outputs": [
    {
     "data": {
      "text/plain": [
       "' 1. get mapping of symbols\\n2. do the arithematict and convertion\\n3. create modes and do the switching '"
      ]
     },
     "execution_count": 1,
     "metadata": {},
     "output_type": "execute_result"
    }
   ],
   "source": [
    "''' 1. get mapping of symbols\n",
    "2. do the arithematict and convertion\n",
    "3. create modes and do the switching '''"
   ]
  },
  {
   "cell_type": "code",
   "execution_count": 2,
   "id": "690039c7",
   "metadata": {},
   "outputs": [],
   "source": [
    "import pandas as pd"
   ]
  },
  {
   "cell_type": "code",
   "execution_count": 3,
   "id": "fa63d516",
   "metadata": {},
   "outputs": [],
   "source": [
    "import numpy as np"
   ]
  },
  {
   "cell_type": "code",
   "execution_count": 4,
   "id": "c3159cbc",
   "metadata": {},
   "outputs": [],
   "source": [
    "number=pd.DataFrame(lambda num: i for i in range(0,26))"
   ]
  },
  {
   "cell_type": "code",
   "execution_count": 5,
   "id": "0b19d8a5",
   "metadata": {},
   "outputs": [
    {
     "name": "stdout",
     "output_type": "stream",
     "text": [
      "['a', 'b', 'c', 'd', 'e', 'f', 'g', 'h', 'i', 'j', 'k', 'l', 'm', 'n', 'o', 'p', 'q', 'r', 's', 't', 'u', 'v', 'w', 'x', 'y', 'z']\n"
     ]
    }
   ],
   "source": [
    "lowercase_alphabet = []\n",
    "for i in range(97, 123):\n",
    "    lowercase_alphabet.append(chr(i))\n",
    "print(lowercase_alphabet)"
   ]
  },
  {
   "cell_type": "code",
   "execution_count": 6,
   "id": "052da07e",
   "metadata": {},
   "outputs": [
    {
     "name": "stdout",
     "output_type": "stream",
     "text": [
      "['A', 'B', 'C', 'D', 'E', 'F', 'G', 'H', 'I', 'J', 'K', 'L', 'M', 'N', 'O', 'P', 'Q', 'R', 'S', 'T', 'U', 'V', 'W', 'X', 'Y', 'Z']\n"
     ]
    }
   ],
   "source": [
    "uppercase_alphabet = []\n",
    "for i in range(65, 91):\n",
    "    uppercase_alphabet.append(chr(i))\n",
    "print(uppercase_alphabet)"
   ]
  },
  {
   "cell_type": "code",
   "execution_count": 7,
   "id": "59c33589",
   "metadata": {},
   "outputs": [],
   "source": [
    "number[0]=lowercase_alphabet"
   ]
  },
  {
   "cell_type": "code",
   "execution_count": 8,
   "id": "0325c13b",
   "metadata": {},
   "outputs": [
    {
     "data": {
      "text/plain": [
       "RangeIndex(start=0, stop=26, step=1)"
      ]
     },
     "execution_count": 8,
     "metadata": {},
     "output_type": "execute_result"
    }
   ],
   "source": [
    "number.index"
   ]
  },
  {
   "cell_type": "code",
   "execution_count": 9,
   "id": "65043499",
   "metadata": {},
   "outputs": [],
   "source": [
    "# number.index = np.arange(1, len(df) + 1)"
   ]
  },
  {
   "cell_type": "code",
   "execution_count": 10,
   "id": "e8fc6305",
   "metadata": {},
   "outputs": [],
   "source": [
    "# for i in number.index:\n",
    "#     number.index[i]+=1\n",
    "    "
   ]
  },
  {
   "cell_type": "code",
   "execution_count": 11,
   "id": "afc0b23b",
   "metadata": {},
   "outputs": [],
   "source": [
    "number[1]=uppercase_alphabet"
   ]
  },
  {
   "cell_type": "code",
   "execution_count": 12,
   "id": "7d87a75f",
   "metadata": {},
   "outputs": [
    {
     "data": {
      "text/plain": [
       "RangeIndex(start=0, stop=2, step=1)"
      ]
     },
     "execution_count": 12,
     "metadata": {},
     "output_type": "execute_result"
    }
   ],
   "source": [
    "number.columns"
   ]
  },
  {
   "cell_type": "code",
   "execution_count": 13,
   "id": "7f7a0cb1",
   "metadata": {},
   "outputs": [
    {
     "data": {
      "text/plain": [
       "'A'"
      ]
     },
     "execution_count": 13,
     "metadata": {},
     "output_type": "execute_result"
    }
   ],
   "source": [
    "chr(65)"
   ]
  },
  {
   "cell_type": "code",
   "execution_count": 14,
   "id": "dd6e40c6",
   "metadata": {},
   "outputs": [
    {
     "data": {
      "text/plain": [
       "'Z'"
      ]
     },
     "execution_count": 14,
     "metadata": {},
     "output_type": "execute_result"
    }
   ],
   "source": [
    "chr(90)"
   ]
  },
  {
   "cell_type": "code",
   "execution_count": 15,
   "id": "be004d95",
   "metadata": {},
   "outputs": [
    {
     "data": {
      "text/html": [
       "<div>\n",
       "<style scoped>\n",
       "    .dataframe tbody tr th:only-of-type {\n",
       "        vertical-align: middle;\n",
       "    }\n",
       "\n",
       "    .dataframe tbody tr th {\n",
       "        vertical-align: top;\n",
       "    }\n",
       "\n",
       "    .dataframe thead th {\n",
       "        text-align: right;\n",
       "    }\n",
       "</style>\n",
       "<table border=\"1\" class=\"dataframe\">\n",
       "  <thead>\n",
       "    <tr style=\"text-align: right;\">\n",
       "      <th></th>\n",
       "      <th>0</th>\n",
       "      <th>1</th>\n",
       "    </tr>\n",
       "  </thead>\n",
       "  <tbody>\n",
       "    <tr>\n",
       "      <th>0</th>\n",
       "      <td>a</td>\n",
       "      <td>A</td>\n",
       "    </tr>\n",
       "    <tr>\n",
       "      <th>1</th>\n",
       "      <td>b</td>\n",
       "      <td>B</td>\n",
       "    </tr>\n",
       "    <tr>\n",
       "      <th>2</th>\n",
       "      <td>c</td>\n",
       "      <td>C</td>\n",
       "    </tr>\n",
       "    <tr>\n",
       "      <th>3</th>\n",
       "      <td>d</td>\n",
       "      <td>D</td>\n",
       "    </tr>\n",
       "    <tr>\n",
       "      <th>4</th>\n",
       "      <td>e</td>\n",
       "      <td>E</td>\n",
       "    </tr>\n",
       "    <tr>\n",
       "      <th>5</th>\n",
       "      <td>f</td>\n",
       "      <td>F</td>\n",
       "    </tr>\n",
       "    <tr>\n",
       "      <th>6</th>\n",
       "      <td>g</td>\n",
       "      <td>G</td>\n",
       "    </tr>\n",
       "    <tr>\n",
       "      <th>7</th>\n",
       "      <td>h</td>\n",
       "      <td>H</td>\n",
       "    </tr>\n",
       "    <tr>\n",
       "      <th>8</th>\n",
       "      <td>i</td>\n",
       "      <td>I</td>\n",
       "    </tr>\n",
       "    <tr>\n",
       "      <th>9</th>\n",
       "      <td>j</td>\n",
       "      <td>J</td>\n",
       "    </tr>\n",
       "    <tr>\n",
       "      <th>10</th>\n",
       "      <td>k</td>\n",
       "      <td>K</td>\n",
       "    </tr>\n",
       "    <tr>\n",
       "      <th>11</th>\n",
       "      <td>l</td>\n",
       "      <td>L</td>\n",
       "    </tr>\n",
       "    <tr>\n",
       "      <th>12</th>\n",
       "      <td>m</td>\n",
       "      <td>M</td>\n",
       "    </tr>\n",
       "    <tr>\n",
       "      <th>13</th>\n",
       "      <td>n</td>\n",
       "      <td>N</td>\n",
       "    </tr>\n",
       "    <tr>\n",
       "      <th>14</th>\n",
       "      <td>o</td>\n",
       "      <td>O</td>\n",
       "    </tr>\n",
       "    <tr>\n",
       "      <th>15</th>\n",
       "      <td>p</td>\n",
       "      <td>P</td>\n",
       "    </tr>\n",
       "    <tr>\n",
       "      <th>16</th>\n",
       "      <td>q</td>\n",
       "      <td>Q</td>\n",
       "    </tr>\n",
       "    <tr>\n",
       "      <th>17</th>\n",
       "      <td>r</td>\n",
       "      <td>R</td>\n",
       "    </tr>\n",
       "    <tr>\n",
       "      <th>18</th>\n",
       "      <td>s</td>\n",
       "      <td>S</td>\n",
       "    </tr>\n",
       "    <tr>\n",
       "      <th>19</th>\n",
       "      <td>t</td>\n",
       "      <td>T</td>\n",
       "    </tr>\n",
       "    <tr>\n",
       "      <th>20</th>\n",
       "      <td>u</td>\n",
       "      <td>U</td>\n",
       "    </tr>\n",
       "    <tr>\n",
       "      <th>21</th>\n",
       "      <td>v</td>\n",
       "      <td>V</td>\n",
       "    </tr>\n",
       "    <tr>\n",
       "      <th>22</th>\n",
       "      <td>w</td>\n",
       "      <td>W</td>\n",
       "    </tr>\n",
       "    <tr>\n",
       "      <th>23</th>\n",
       "      <td>x</td>\n",
       "      <td>X</td>\n",
       "    </tr>\n",
       "    <tr>\n",
       "      <th>24</th>\n",
       "      <td>y</td>\n",
       "      <td>Y</td>\n",
       "    </tr>\n",
       "    <tr>\n",
       "      <th>25</th>\n",
       "      <td>z</td>\n",
       "      <td>Z</td>\n",
       "    </tr>\n",
       "  </tbody>\n",
       "</table>\n",
       "</div>"
      ],
      "text/plain": [
       "    0  1\n",
       "0   a  A\n",
       "1   b  B\n",
       "2   c  C\n",
       "3   d  D\n",
       "4   e  E\n",
       "5   f  F\n",
       "6   g  G\n",
       "7   h  H\n",
       "8   i  I\n",
       "9   j  J\n",
       "10  k  K\n",
       "11  l  L\n",
       "12  m  M\n",
       "13  n  N\n",
       "14  o  O\n",
       "15  p  P\n",
       "16  q  Q\n",
       "17  r  R\n",
       "18  s  S\n",
       "19  t  T\n",
       "20  u  U\n",
       "21  v  V\n",
       "22  w  W\n",
       "23  x  X\n",
       "24  y  Y\n",
       "25  z  Z"
      ]
     },
     "execution_count": 15,
     "metadata": {},
     "output_type": "execute_result"
    }
   ],
   "source": [
    "number"
   ]
  },
  {
   "cell_type": "code",
   "execution_count": 16,
   "id": "d6e2c338",
   "metadata": {},
   "outputs": [],
   "source": [
    "number.columns=[\"LOWERCASE\",\"UPPERCASE\"]"
   ]
  },
  {
   "cell_type": "code",
   "execution_count": 17,
   "id": "a116f789",
   "metadata": {},
   "outputs": [
    {
     "data": {
      "text/html": [
       "<div>\n",
       "<style scoped>\n",
       "    .dataframe tbody tr th:only-of-type {\n",
       "        vertical-align: middle;\n",
       "    }\n",
       "\n",
       "    .dataframe tbody tr th {\n",
       "        vertical-align: top;\n",
       "    }\n",
       "\n",
       "    .dataframe thead th {\n",
       "        text-align: right;\n",
       "    }\n",
       "</style>\n",
       "<table border=\"1\" class=\"dataframe\">\n",
       "  <thead>\n",
       "    <tr style=\"text-align: right;\">\n",
       "      <th></th>\n",
       "      <th>LOWERCASE</th>\n",
       "      <th>UPPERCASE</th>\n",
       "    </tr>\n",
       "  </thead>\n",
       "  <tbody>\n",
       "    <tr>\n",
       "      <th>0</th>\n",
       "      <td>a</td>\n",
       "      <td>A</td>\n",
       "    </tr>\n",
       "    <tr>\n",
       "      <th>1</th>\n",
       "      <td>b</td>\n",
       "      <td>B</td>\n",
       "    </tr>\n",
       "    <tr>\n",
       "      <th>2</th>\n",
       "      <td>c</td>\n",
       "      <td>C</td>\n",
       "    </tr>\n",
       "    <tr>\n",
       "      <th>3</th>\n",
       "      <td>d</td>\n",
       "      <td>D</td>\n",
       "    </tr>\n",
       "    <tr>\n",
       "      <th>4</th>\n",
       "      <td>e</td>\n",
       "      <td>E</td>\n",
       "    </tr>\n",
       "    <tr>\n",
       "      <th>5</th>\n",
       "      <td>f</td>\n",
       "      <td>F</td>\n",
       "    </tr>\n",
       "    <tr>\n",
       "      <th>6</th>\n",
       "      <td>g</td>\n",
       "      <td>G</td>\n",
       "    </tr>\n",
       "    <tr>\n",
       "      <th>7</th>\n",
       "      <td>h</td>\n",
       "      <td>H</td>\n",
       "    </tr>\n",
       "    <tr>\n",
       "      <th>8</th>\n",
       "      <td>i</td>\n",
       "      <td>I</td>\n",
       "    </tr>\n",
       "    <tr>\n",
       "      <th>9</th>\n",
       "      <td>j</td>\n",
       "      <td>J</td>\n",
       "    </tr>\n",
       "    <tr>\n",
       "      <th>10</th>\n",
       "      <td>k</td>\n",
       "      <td>K</td>\n",
       "    </tr>\n",
       "    <tr>\n",
       "      <th>11</th>\n",
       "      <td>l</td>\n",
       "      <td>L</td>\n",
       "    </tr>\n",
       "    <tr>\n",
       "      <th>12</th>\n",
       "      <td>m</td>\n",
       "      <td>M</td>\n",
       "    </tr>\n",
       "    <tr>\n",
       "      <th>13</th>\n",
       "      <td>n</td>\n",
       "      <td>N</td>\n",
       "    </tr>\n",
       "    <tr>\n",
       "      <th>14</th>\n",
       "      <td>o</td>\n",
       "      <td>O</td>\n",
       "    </tr>\n",
       "    <tr>\n",
       "      <th>15</th>\n",
       "      <td>p</td>\n",
       "      <td>P</td>\n",
       "    </tr>\n",
       "    <tr>\n",
       "      <th>16</th>\n",
       "      <td>q</td>\n",
       "      <td>Q</td>\n",
       "    </tr>\n",
       "    <tr>\n",
       "      <th>17</th>\n",
       "      <td>r</td>\n",
       "      <td>R</td>\n",
       "    </tr>\n",
       "    <tr>\n",
       "      <th>18</th>\n",
       "      <td>s</td>\n",
       "      <td>S</td>\n",
       "    </tr>\n",
       "    <tr>\n",
       "      <th>19</th>\n",
       "      <td>t</td>\n",
       "      <td>T</td>\n",
       "    </tr>\n",
       "    <tr>\n",
       "      <th>20</th>\n",
       "      <td>u</td>\n",
       "      <td>U</td>\n",
       "    </tr>\n",
       "    <tr>\n",
       "      <th>21</th>\n",
       "      <td>v</td>\n",
       "      <td>V</td>\n",
       "    </tr>\n",
       "    <tr>\n",
       "      <th>22</th>\n",
       "      <td>w</td>\n",
       "      <td>W</td>\n",
       "    </tr>\n",
       "    <tr>\n",
       "      <th>23</th>\n",
       "      <td>x</td>\n",
       "      <td>X</td>\n",
       "    </tr>\n",
       "    <tr>\n",
       "      <th>24</th>\n",
       "      <td>y</td>\n",
       "      <td>Y</td>\n",
       "    </tr>\n",
       "    <tr>\n",
       "      <th>25</th>\n",
       "      <td>z</td>\n",
       "      <td>Z</td>\n",
       "    </tr>\n",
       "  </tbody>\n",
       "</table>\n",
       "</div>"
      ],
      "text/plain": [
       "   LOWERCASE UPPERCASE\n",
       "0          a         A\n",
       "1          b         B\n",
       "2          c         C\n",
       "3          d         D\n",
       "4          e         E\n",
       "5          f         F\n",
       "6          g         G\n",
       "7          h         H\n",
       "8          i         I\n",
       "9          j         J\n",
       "10         k         K\n",
       "11         l         L\n",
       "12         m         M\n",
       "13         n         N\n",
       "14         o         O\n",
       "15         p         P\n",
       "16         q         Q\n",
       "17         r         R\n",
       "18         s         S\n",
       "19         t         T\n",
       "20         u         U\n",
       "21         v         V\n",
       "22         w         W\n",
       "23         x         X\n",
       "24         y         Y\n",
       "25         z         Z"
      ]
     },
     "execution_count": 17,
     "metadata": {},
     "output_type": "execute_result"
    }
   ],
   "source": [
    "number  #here the index is starting from 0. i have fixed that down for correct mapping."
   ]
  },
  {
   "cell_type": "code",
   "execution_count": 18,
   "id": "d0d9faf9",
   "metadata": {},
   "outputs": [
    {
     "data": {
      "text/plain": [
       "33"
      ]
     },
     "execution_count": 18,
     "metadata": {},
     "output_type": "execute_result"
    }
   ],
   "source": [
    "ord('!')"
   ]
  },
  {
   "cell_type": "code",
   "execution_count": 19,
   "id": "777c2bdd",
   "metadata": {},
   "outputs": [
    {
     "data": {
      "text/plain": [
       "'!'"
      ]
     },
     "execution_count": 19,
     "metadata": {},
     "output_type": "execute_result"
    }
   ],
   "source": [
    "chr(33)"
   ]
  },
  {
   "cell_type": "code",
   "execution_count": 20,
   "id": "930039f9",
   "metadata": {},
   "outputs": [],
   "source": [
    "PUNCTUATIONS={\"1\":\"!\",\n",
    " \"2\":\"?\",\n",
    " \"3\":\",\",\n",
    " \"4\":\".\",\n",
    " \"5\":\" \",\n",
    " \"6\":\";\",\n",
    " \"7\":\"\\\"\",\n",
    " \"8\":\"'\"}"
   ]
  },
  {
   "cell_type": "code",
   "execution_count": 21,
   "id": "0580f6b3",
   "metadata": {},
   "outputs": [
    {
     "data": {
      "text/plain": [
       "Index(['LOWERCASE', 'UPPERCASE'], dtype='object')"
      ]
     },
     "execution_count": 21,
     "metadata": {},
     "output_type": "execute_result"
    }
   ],
   "source": [
    "number.columns"
   ]
  },
  {
   "cell_type": "code",
   "execution_count": 22,
   "id": "18e1b7a5",
   "metadata": {},
   "outputs": [],
   "source": [
    "Modes=[number.columns[0],number.columns[1],PUNCTUATIONS]"
   ]
  },
  {
   "cell_type": "code",
   "execution_count": 23,
   "id": "8df5c5ff",
   "metadata": {
    "scrolled": true
   },
   "outputs": [
    {
     "data": {
      "text/html": [
       "<div>\n",
       "<style scoped>\n",
       "    .dataframe tbody tr th:only-of-type {\n",
       "        vertical-align: middle;\n",
       "    }\n",
       "\n",
       "    .dataframe tbody tr th {\n",
       "        vertical-align: top;\n",
       "    }\n",
       "\n",
       "    .dataframe thead th {\n",
       "        text-align: right;\n",
       "    }\n",
       "</style>\n",
       "<table border=\"1\" class=\"dataframe\">\n",
       "  <thead>\n",
       "    <tr style=\"text-align: right;\">\n",
       "      <th></th>\n",
       "      <th>0</th>\n",
       "    </tr>\n",
       "  </thead>\n",
       "  <tbody>\n",
       "    <tr>\n",
       "      <th>0</th>\n",
       "      <td>LOWERCASE</td>\n",
       "    </tr>\n",
       "    <tr>\n",
       "      <th>1</th>\n",
       "      <td>UPPERCASE</td>\n",
       "    </tr>\n",
       "    <tr>\n",
       "      <th>2</th>\n",
       "      <td>{'1': '!', '2': '?', '3': ',', '4': '.', '5': ...</td>\n",
       "    </tr>\n",
       "  </tbody>\n",
       "</table>\n",
       "</div>"
      ],
      "text/plain": [
       "                                                   0\n",
       "0                                          LOWERCASE\n",
       "1                                          UPPERCASE\n",
       "2  {'1': '!', '2': '?', '3': ',', '4': '.', '5': ..."
      ]
     },
     "execution_count": 23,
     "metadata": {},
     "output_type": "execute_result"
    }
   ],
   "source": [
    "pd.DataFrame(Modes)"
   ]
  },
  {
   "cell_type": "code",
   "execution_count": 24,
   "id": "9c87b315",
   "metadata": {},
   "outputs": [
    {
     "data": {
      "text/plain": [
       "['LOWERCASE',\n",
       " 'UPPERCASE',\n",
       " {'1': '!',\n",
       "  '2': '?',\n",
       "  '3': ',',\n",
       "  '4': '.',\n",
       "  '5': ' ',\n",
       "  '6': ';',\n",
       "  '7': '\"',\n",
       "  '8': \"'\"}]"
      ]
     },
     "execution_count": 24,
     "metadata": {},
     "output_type": "execute_result"
    }
   ],
   "source": [
    "Modes"
   ]
  },
  {
   "cell_type": "code",
   "execution_count": 25,
   "id": "0e4dd40d",
   "metadata": {},
   "outputs": [],
   "source": [
    "# pd.DataFrame(PUNCTUATIONS.values,index=PUNCTUATIONS.keys)"
   ]
  },
  {
   "cell_type": "code",
   "execution_count": 26,
   "id": "2e878ed2",
   "metadata": {},
   "outputs": [
    {
     "data": {
      "text/plain": [
       "2"
      ]
     },
     "execution_count": 26,
     "metadata": {},
     "output_type": "execute_result"
    }
   ],
   "source": [
    "43985%27"
   ]
  },
  {
   "cell_type": "code",
   "execution_count": 27,
   "id": "4350e32b",
   "metadata": {},
   "outputs": [],
   "source": [
    "input=\"18,12312,171,763,98423,1208,216,11,500,18,241,0,32,20620,27,10\""
   ]
  },
  {
   "cell_type": "code",
   "execution_count": 28,
   "id": "48e71407",
   "metadata": {},
   "outputs": [
    {
     "data": {
      "text/plain": [
       "'18,12312,171,763,98423,1208,216,11,500,18,241,0,32,20620,27,10'"
      ]
     },
     "execution_count": 28,
     "metadata": {},
     "output_type": "execute_result"
    }
   ],
   "source": [
    "input"
   ]
  },
  {
   "cell_type": "code",
   "execution_count": 29,
   "id": "c499ef05",
   "metadata": {},
   "outputs": [],
   "source": [
    "preprocess=input.split(\",\")"
   ]
  },
  {
   "cell_type": "code",
   "execution_count": 30,
   "id": "bc8961c6",
   "metadata": {},
   "outputs": [
    {
     "data": {
      "text/plain": [
       "['18',\n",
       " '12312',\n",
       " '171',\n",
       " '763',\n",
       " '98423',\n",
       " '1208',\n",
       " '216',\n",
       " '11',\n",
       " '500',\n",
       " '18',\n",
       " '241',\n",
       " '0',\n",
       " '32',\n",
       " '20620',\n",
       " '27',\n",
       " '10']"
      ]
     },
     "execution_count": 30,
     "metadata": {},
     "output_type": "execute_result"
    }
   ],
   "source": [
    "preprocess"
   ]
  },
  {
   "cell_type": "code",
   "execution_count": 31,
   "id": "bfcde6bb",
   "metadata": {},
   "outputs": [
    {
     "data": {
      "text/plain": [
       "['18',\n",
       " '12312',\n",
       " '171',\n",
       " '763',\n",
       " '98423',\n",
       " '1208',\n",
       " '216',\n",
       " '11',\n",
       " '500',\n",
       " '18',\n",
       " '241',\n",
       " '0',\n",
       " '32',\n",
       " '20620',\n",
       " '27',\n",
       " '10']"
      ]
     },
     "execution_count": 31,
     "metadata": {},
     "output_type": "execute_result"
    }
   ],
   "source": [
    "preprocess"
   ]
  },
  {
   "cell_type": "code",
   "execution_count": 32,
   "id": "e9e555c0",
   "metadata": {},
   "outputs": [],
   "source": [
    "type_cast=[]\n",
    "for i in preprocess:\n",
    "    type_cast.append(int(i))\n",
    "    "
   ]
  },
  {
   "cell_type": "code",
   "execution_count": 33,
   "id": "226e6504",
   "metadata": {},
   "outputs": [
    {
     "data": {
      "text/plain": [
       "[18, 12312, 171, 763, 98423, 1208, 216, 11, 500, 18, 241, 0, 32, 20620, 27, 10]"
      ]
     },
     "execution_count": 33,
     "metadata": {},
     "output_type": "execute_result"
    }
   ],
   "source": [
    "type_cast"
   ]
  },
  {
   "cell_type": "code",
   "execution_count": 34,
   "id": "da15c477",
   "metadata": {},
   "outputs": [],
   "source": [
    "arithematic=[]\n",
    "for i in type_cast:\n",
    "    arithematic.append(i%27)"
   ]
  },
  {
   "cell_type": "code",
   "execution_count": 35,
   "id": "0f1a4947",
   "metadata": {},
   "outputs": [
    {
     "data": {
      "text/plain": [
       "[18, 0, 9, 7, 8, 20, 0, 11, 14, 18, 25, 0, 5, 19, 0, 10]"
      ]
     },
     "execution_count": 35,
     "metadata": {},
     "output_type": "execute_result"
    }
   ],
   "source": [
    "arithematic"
   ]
  },
  {
   "cell_type": "code",
   "execution_count": 36,
   "id": "941196ba",
   "metadata": {},
   "outputs": [],
   "source": [
    "# mode='UPPERCASE'\n",
    "# if mode='UPPERCASE':\n",
    "    "
   ]
  },
  {
   "cell_type": "code",
   "execution_count": 37,
   "id": "9f35a53d",
   "metadata": {},
   "outputs": [
    {
     "data": {
      "text/plain": [
       "9"
      ]
     },
     "execution_count": 37,
     "metadata": {},
     "output_type": "execute_result"
    }
   ],
   "source": [
    "171%27"
   ]
  },
  {
   "cell_type": "code",
   "execution_count": 38,
   "id": "0650a51d",
   "metadata": {},
   "outputs": [
    {
     "data": {
      "text/plain": [
       "6"
      ]
     },
     "execution_count": 38,
     "metadata": {},
     "output_type": "execute_result"
    }
   ],
   "source": [
    "171//27"
   ]
  },
  {
   "cell_type": "code",
   "execution_count": 39,
   "id": "04ccb4dd",
   "metadata": {},
   "outputs": [],
   "source": [
    "function1=pd.DataFrame(arithematic)"
   ]
  },
  {
   "cell_type": "code",
   "execution_count": 40,
   "id": "76a75583",
   "metadata": {},
   "outputs": [
    {
     "data": {
      "text/html": [
       "<div>\n",
       "<style scoped>\n",
       "    .dataframe tbody tr th:only-of-type {\n",
       "        vertical-align: middle;\n",
       "    }\n",
       "\n",
       "    .dataframe tbody tr th {\n",
       "        vertical-align: top;\n",
       "    }\n",
       "\n",
       "    .dataframe thead th {\n",
       "        text-align: right;\n",
       "    }\n",
       "</style>\n",
       "<table border=\"1\" class=\"dataframe\">\n",
       "  <thead>\n",
       "    <tr style=\"text-align: right;\">\n",
       "      <th></th>\n",
       "      <th>0</th>\n",
       "    </tr>\n",
       "  </thead>\n",
       "  <tbody>\n",
       "    <tr>\n",
       "      <th>0</th>\n",
       "      <td>18</td>\n",
       "    </tr>\n",
       "    <tr>\n",
       "      <th>1</th>\n",
       "      <td>0</td>\n",
       "    </tr>\n",
       "    <tr>\n",
       "      <th>2</th>\n",
       "      <td>9</td>\n",
       "    </tr>\n",
       "    <tr>\n",
       "      <th>3</th>\n",
       "      <td>7</td>\n",
       "    </tr>\n",
       "    <tr>\n",
       "      <th>4</th>\n",
       "      <td>8</td>\n",
       "    </tr>\n",
       "    <tr>\n",
       "      <th>5</th>\n",
       "      <td>20</td>\n",
       "    </tr>\n",
       "    <tr>\n",
       "      <th>6</th>\n",
       "      <td>0</td>\n",
       "    </tr>\n",
       "    <tr>\n",
       "      <th>7</th>\n",
       "      <td>11</td>\n",
       "    </tr>\n",
       "    <tr>\n",
       "      <th>8</th>\n",
       "      <td>14</td>\n",
       "    </tr>\n",
       "    <tr>\n",
       "      <th>9</th>\n",
       "      <td>18</td>\n",
       "    </tr>\n",
       "    <tr>\n",
       "      <th>10</th>\n",
       "      <td>25</td>\n",
       "    </tr>\n",
       "    <tr>\n",
       "      <th>11</th>\n",
       "      <td>0</td>\n",
       "    </tr>\n",
       "    <tr>\n",
       "      <th>12</th>\n",
       "      <td>5</td>\n",
       "    </tr>\n",
       "    <tr>\n",
       "      <th>13</th>\n",
       "      <td>19</td>\n",
       "    </tr>\n",
       "    <tr>\n",
       "      <th>14</th>\n",
       "      <td>0</td>\n",
       "    </tr>\n",
       "    <tr>\n",
       "      <th>15</th>\n",
       "      <td>10</td>\n",
       "    </tr>\n",
       "  </tbody>\n",
       "</table>\n",
       "</div>"
      ],
      "text/plain": [
       "     0\n",
       "0   18\n",
       "1    0\n",
       "2    9\n",
       "3    7\n",
       "4    8\n",
       "5   20\n",
       "6    0\n",
       "7   11\n",
       "8   14\n",
       "9   18\n",
       "10  25\n",
       "11   0\n",
       "12   5\n",
       "13  19\n",
       "14   0\n",
       "15  10"
      ]
     },
     "execution_count": 40,
     "metadata": {},
     "output_type": "execute_result"
    }
   ],
   "source": [
    "function1"
   ]
  },
  {
   "cell_type": "code",
   "execution_count": 41,
   "id": "a326897e",
   "metadata": {},
   "outputs": [
    {
     "data": {
      "text/plain": [
       "'UPPERCASE'"
      ]
     },
     "execution_count": 41,
     "metadata": {},
     "output_type": "execute_result"
    }
   ],
   "source": [
    "number.columns[1]"
   ]
  },
  {
   "cell_type": "code",
   "execution_count": 42,
   "id": "eed9d606",
   "metadata": {},
   "outputs": [],
   "source": [
    "function1[\"Mode\"]=number.columns[1]"
   ]
  },
  {
   "cell_type": "code",
   "execution_count": 43,
   "id": "f838360c",
   "metadata": {},
   "outputs": [
    {
     "data": {
      "text/html": [
       "<div>\n",
       "<style scoped>\n",
       "    .dataframe tbody tr th:only-of-type {\n",
       "        vertical-align: middle;\n",
       "    }\n",
       "\n",
       "    .dataframe tbody tr th {\n",
       "        vertical-align: top;\n",
       "    }\n",
       "\n",
       "    .dataframe thead th {\n",
       "        text-align: right;\n",
       "    }\n",
       "</style>\n",
       "<table border=\"1\" class=\"dataframe\">\n",
       "  <thead>\n",
       "    <tr style=\"text-align: right;\">\n",
       "      <th></th>\n",
       "      <th>0</th>\n",
       "      <th>Mode</th>\n",
       "    </tr>\n",
       "  </thead>\n",
       "  <tbody>\n",
       "    <tr>\n",
       "      <th>0</th>\n",
       "      <td>18</td>\n",
       "      <td>UPPERCASE</td>\n",
       "    </tr>\n",
       "    <tr>\n",
       "      <th>1</th>\n",
       "      <td>0</td>\n",
       "      <td>UPPERCASE</td>\n",
       "    </tr>\n",
       "    <tr>\n",
       "      <th>2</th>\n",
       "      <td>9</td>\n",
       "      <td>UPPERCASE</td>\n",
       "    </tr>\n",
       "    <tr>\n",
       "      <th>3</th>\n",
       "      <td>7</td>\n",
       "      <td>UPPERCASE</td>\n",
       "    </tr>\n",
       "    <tr>\n",
       "      <th>4</th>\n",
       "      <td>8</td>\n",
       "      <td>UPPERCASE</td>\n",
       "    </tr>\n",
       "    <tr>\n",
       "      <th>5</th>\n",
       "      <td>20</td>\n",
       "      <td>UPPERCASE</td>\n",
       "    </tr>\n",
       "    <tr>\n",
       "      <th>6</th>\n",
       "      <td>0</td>\n",
       "      <td>UPPERCASE</td>\n",
       "    </tr>\n",
       "    <tr>\n",
       "      <th>7</th>\n",
       "      <td>11</td>\n",
       "      <td>UPPERCASE</td>\n",
       "    </tr>\n",
       "    <tr>\n",
       "      <th>8</th>\n",
       "      <td>14</td>\n",
       "      <td>UPPERCASE</td>\n",
       "    </tr>\n",
       "    <tr>\n",
       "      <th>9</th>\n",
       "      <td>18</td>\n",
       "      <td>UPPERCASE</td>\n",
       "    </tr>\n",
       "    <tr>\n",
       "      <th>10</th>\n",
       "      <td>25</td>\n",
       "      <td>UPPERCASE</td>\n",
       "    </tr>\n",
       "    <tr>\n",
       "      <th>11</th>\n",
       "      <td>0</td>\n",
       "      <td>UPPERCASE</td>\n",
       "    </tr>\n",
       "    <tr>\n",
       "      <th>12</th>\n",
       "      <td>5</td>\n",
       "      <td>UPPERCASE</td>\n",
       "    </tr>\n",
       "    <tr>\n",
       "      <th>13</th>\n",
       "      <td>19</td>\n",
       "      <td>UPPERCASE</td>\n",
       "    </tr>\n",
       "    <tr>\n",
       "      <th>14</th>\n",
       "      <td>0</td>\n",
       "      <td>UPPERCASE</td>\n",
       "    </tr>\n",
       "    <tr>\n",
       "      <th>15</th>\n",
       "      <td>10</td>\n",
       "      <td>UPPERCASE</td>\n",
       "    </tr>\n",
       "  </tbody>\n",
       "</table>\n",
       "</div>"
      ],
      "text/plain": [
       "     0       Mode\n",
       "0   18  UPPERCASE\n",
       "1    0  UPPERCASE\n",
       "2    9  UPPERCASE\n",
       "3    7  UPPERCASE\n",
       "4    8  UPPERCASE\n",
       "5   20  UPPERCASE\n",
       "6    0  UPPERCASE\n",
       "7   11  UPPERCASE\n",
       "8   14  UPPERCASE\n",
       "9   18  UPPERCASE\n",
       "10  25  UPPERCASE\n",
       "11   0  UPPERCASE\n",
       "12   5  UPPERCASE\n",
       "13  19  UPPERCASE\n",
       "14   0  UPPERCASE\n",
       "15  10  UPPERCASE"
      ]
     },
     "execution_count": 43,
     "metadata": {},
     "output_type": "execute_result"
    }
   ],
   "source": [
    "function1"
   ]
  },
  {
   "cell_type": "code",
   "execution_count": 44,
   "id": "a13ae9e1",
   "metadata": {},
   "outputs": [
    {
     "name": "stdout",
     "output_type": "stream",
     "text": [
      "UPPERCASE\n",
      "LOWERCASE\n",
      "UPPERCASE\n",
      "UPPERCASE\n",
      "UPPERCASE\n",
      "UPPERCASE\n",
      "LOWERCASE\n",
      "UPPERCASE\n",
      "UPPERCASE\n",
      "UPPERCASE\n",
      "UPPERCASE\n",
      "LOWERCASE\n",
      "UPPERCASE\n",
      "UPPERCASE\n",
      "LOWERCASE\n",
      "UPPERCASE\n"
     ]
    },
    {
     "name": "stderr",
     "output_type": "stream",
     "text": [
      "C:\\Users\\bhava\\AppData\\Local\\Temp\\ipykernel_21740\\1585301738.py:5: SettingWithCopyWarning: \n",
      "A value is trying to be set on a copy of a slice from a DataFrame\n",
      "\n",
      "See the caveats in the documentation: https://pandas.pydata.org/pandas-docs/stable/user_guide/indexing.html#returning-a-view-versus-a-copy\n",
      "  function1['Mode'][i]=number.columns[0]\n",
      "C:\\Users\\bhava\\AppData\\Local\\Temp\\ipykernel_21740\\1585301738.py:5: SettingWithCopyWarning: \n",
      "A value is trying to be set on a copy of a slice from a DataFrame\n",
      "\n",
      "See the caveats in the documentation: https://pandas.pydata.org/pandas-docs/stable/user_guide/indexing.html#returning-a-view-versus-a-copy\n",
      "  function1['Mode'][i]=number.columns[0]\n",
      "C:\\Users\\bhava\\AppData\\Local\\Temp\\ipykernel_21740\\1585301738.py:5: SettingWithCopyWarning: \n",
      "A value is trying to be set on a copy of a slice from a DataFrame\n",
      "\n",
      "See the caveats in the documentation: https://pandas.pydata.org/pandas-docs/stable/user_guide/indexing.html#returning-a-view-versus-a-copy\n",
      "  function1['Mode'][i]=number.columns[0]\n",
      "C:\\Users\\bhava\\AppData\\Local\\Temp\\ipykernel_21740\\1585301738.py:5: SettingWithCopyWarning: \n",
      "A value is trying to be set on a copy of a slice from a DataFrame\n",
      "\n",
      "See the caveats in the documentation: https://pandas.pydata.org/pandas-docs/stable/user_guide/indexing.html#returning-a-view-versus-a-copy\n",
      "  function1['Mode'][i]=number.columns[0]\n"
     ]
    }
   ],
   "source": [
    "\n",
    "for i in range(len(function1.index)):\n",
    "    if(function1[0][i]!=0):\n",
    "        print(function1['Mode'][i])\n",
    "    elif (function1['Mode'][i-1]==number.columns[1]):\n",
    "        function1['Mode'][i]=number.columns[0]\n",
    "        print(function1['Mode'][i])\n",
    "    elif (function1['Mode'][i-1]==number.columns[0]):\n",
    "        function1['Mode'][i-1]=\"PUNCTUATION\"\n",
    "        print(function1['Mode'][i])"
   ]
  },
  {
   "cell_type": "code",
   "execution_count": 45,
   "id": "ed836352",
   "metadata": {},
   "outputs": [
    {
     "data": {
      "text/plain": [
       "[18, 12312, 171, 763, 98423, 1208, 216, 11, 500, 18, 241, 0, 32, 20620, 27, 10]"
      ]
     },
     "execution_count": 45,
     "metadata": {},
     "output_type": "execute_result"
    }
   ],
   "source": [
    "type_cast"
   ]
  },
  {
   "cell_type": "code",
   "execution_count": 46,
   "id": "70eda648",
   "metadata": {},
   "outputs": [
    {
     "data": {
      "text/plain": [
       "[18, 12312, 171, 763, 98423, 1208, 216, 11, 500, 18, 241, 0, 32, 20620, 27, 10]"
      ]
     },
     "execution_count": 46,
     "metadata": {},
     "output_type": "execute_result"
    }
   ],
   "source": [
    "type_cast"
   ]
  },
  {
   "cell_type": "code",
   "execution_count": 47,
   "id": "b04a8282",
   "metadata": {},
   "outputs": [
    {
     "name": "stdout",
     "output_type": "stream",
     "text": [
      "18\n",
      "0\n",
      "0\n",
      "0\n",
      "9\n",
      "7\n",
      "8\n",
      "20\n",
      "0\n",
      "0\n",
      "0\n",
      "11\n",
      "14\n",
      "18\n",
      "25\n",
      "0\n",
      "0\n",
      "0\n",
      "5\n",
      "19\n",
      "0\n",
      "0\n",
      "0\n",
      "10\n"
     ]
    }
   ],
   "source": [
    "# this snippet can be ignored, as it is doing nothing productive\n",
    "Mode=\"Uppercase\"\n",
    "for i in type_cast:\n",
    "    print(i%27)\n",
    "    if i%27==0:\n",
    "        Mode=\"Lowercase\"\n",
    "        print(i%27)\n",
    "        if i%27==0:\n",
    "            Mode=\"Punctuation\"\n",
    "            print(i%9)"
   ]
  },
  {
   "cell_type": "code",
   "execution_count": 48,
   "id": "ba821c0f",
   "metadata": {},
   "outputs": [
    {
     "name": "stdout",
     "output_type": "stream",
     "text": [
      "One\n"
     ]
    }
   ],
   "source": [
    "def switch_case(argument):\n",
    "    switcher = {\n",
    "        0: \"Zero\",\n",
    "        1: \"One\",\n",
    "        2: \"Two\",\n",
    "    }\n",
    "    return switcher.get(argument, \"Invalid input\")\n",
    "\n",
    "print(switch_case(1))"
   ]
  },
  {
   "cell_type": "code",
   "execution_count": 49,
   "id": "4b872c00",
   "metadata": {},
   "outputs": [
    {
     "name": "stdout",
     "output_type": "stream",
     "text": [
      "uppercase\n",
      "lowercase\n",
      "uppercase\n",
      "lowercase\n",
      "uppercase\n",
      "lowercase\n",
      "punctuation\n",
      "uppercase\n",
      "lowercase\n",
      "punctuation\n",
      "uppercase\n",
      "lowercase\n",
      "punctuation\n",
      "uppercase\n",
      "lowercase\n",
      "punctuation\n",
      "uppercase\n",
      "lowercase\n",
      "punctuation\n",
      "uppercase\n",
      "lowercase\n",
      "uppercase\n",
      "lowercase\n",
      "punctuation\n",
      "uppercase\n",
      "lowercase\n",
      "punctuation\n",
      "uppercase\n",
      "lowercase\n",
      "punctuation\n",
      "uppercase\n",
      "lowercase\n",
      "punctuation\n"
     ]
    }
   ],
   "source": [
    "# this snippet can be ignored, as it is doing nothing productive\n",
    "for i in type_cast:\n",
    "    while(i%27!=0):\n",
    "        mode=\"uppercase\"\n",
    "        print(mode)\n",
    "        break;\n",
    "    mode=\"lowercase\"\n",
    "    while(i%27!=0):\n",
    "        print(mode)\n",
    "        break;\n",
    "    mode=\"punctuation\"\n",
    "    while(i%9!=0):\n",
    "        print(mode)\n",
    "        break;\n",
    "    \n",
    "    "
   ]
  },
  {
   "cell_type": "code",
   "execution_count": 50,
   "id": "58acac24",
   "metadata": {},
   "outputs": [],
   "source": [
    "def switch_case(argument):\n",
    "    switcher = {\n",
    "        \"uppercase\": uppercase(),\n",
    "        \"lowercase\": lowercase(),\n",
    "        \"punctuation\": punctuation(),\n",
    "    }\n",
    "    return switcher.get(argument, \"Invalid input\")\n",
    "\n",
    "#print(switch_case(mode))"
   ]
  },
  {
   "cell_type": "code",
   "execution_count": 51,
   "id": "26d7ea63",
   "metadata": {},
   "outputs": [],
   "source": [
    "# for i in type_cast:\n",
    "#     print(switch_case(mode))"
   ]
  },
  {
   "cell_type": "code",
   "execution_count": 52,
   "id": "11b8f2d7",
   "metadata": {},
   "outputs": [
    {
     "name": "stdout",
     "output_type": "stream",
     "text": [
      "One\n"
     ]
    }
   ],
   "source": [
    "def switch_case(argument):\n",
    "    switcher = {\n",
    "        0: \"Zero\",\n",
    "        1: \"One\",\n",
    "        2: \"Two\",\n",
    "    }\n",
    "    return switcher.get(argument, \"Invalid input\")\n",
    "\n",
    "print(switch_case(1))"
   ]
  },
  {
   "cell_type": "code",
   "execution_count": 53,
   "id": "d6dd45c3",
   "metadata": {},
   "outputs": [],
   "source": [
    "number.index=range(1,len(number)+1)"
   ]
  },
  {
   "cell_type": "code",
   "execution_count": 54,
   "id": "bde01461",
   "metadata": {},
   "outputs": [
    {
     "data": {
      "text/plain": [
       "[18, 12312, 171, 763, 98423, 1208, 216, 11, 500, 18, 241, 0, 32, 20620, 27, 10]"
      ]
     },
     "execution_count": 54,
     "metadata": {},
     "output_type": "execute_result"
    }
   ],
   "source": [
    "type_cast"
   ]
  },
  {
   "cell_type": "code",
   "execution_count": 55,
   "id": "8a034097",
   "metadata": {},
   "outputs": [],
   "source": [
    "modeType= [\"UPPERCASE\", \"LOWERCASE\", \"PUNCTUATION\"]"
   ]
  },
  {
   "cell_type": "code",
   "execution_count": 56,
   "id": "7c10de21",
   "metadata": {},
   "outputs": [],
   "source": [
    "mode1= modeType[0]"
   ]
  },
  {
   "cell_type": "code",
   "execution_count": 57,
   "id": "e802c18d",
   "metadata": {},
   "outputs": [],
   "source": [
    "mode2= modeType[1]"
   ]
  },
  {
   "cell_type": "code",
   "execution_count": 58,
   "id": "446620ce",
   "metadata": {},
   "outputs": [],
   "source": [
    "mode3= modeType[2]"
   ]
  },
  {
   "cell_type": "code",
   "execution_count": 59,
   "id": "d3b27000",
   "metadata": {},
   "outputs": [],
   "source": [
    "mode=modeType[0]"
   ]
  },
  {
   "cell_type": "code",
   "execution_count": 60,
   "id": "f5ff3bb3",
   "metadata": {},
   "outputs": [
    {
     "data": {
      "text/plain": [
       "{'1': '!',\n",
       " '2': '?',\n",
       " '3': ',',\n",
       " '4': '.',\n",
       " '5': ' ',\n",
       " '6': ';',\n",
       " '7': '\"',\n",
       " '8': \"'\"}"
      ]
     },
     "execution_count": 60,
     "metadata": {},
     "output_type": "execute_result"
    }
   ],
   "source": [
    "PUNCTUATIONS"
   ]
  },
  {
   "cell_type": "code",
   "execution_count": 63,
   "id": "af70149d",
   "metadata": {},
   "outputs": [
    {
     "name": "stdout",
     "output_type": "stream",
     "text": [
      "R\n",
      "i\n",
      "g\n",
      "h\n",
      "t\n",
      "?\n",
      " \n",
      "Y\n",
      "e\n",
      "s\n",
      "!\n"
     ]
    }
   ],
   "source": [
    "def get_value_upper(i):\n",
    "    num=type_cast[i]%27\n",
    "    if (num==0):\n",
    "        mode=mode2\n",
    "        return mode\n",
    "    return number[number.index==num][mode1][num]\n",
    "\n",
    "def get_value_lower(i):\n",
    "    num=type_cast[i]%27\n",
    "    if (num==0):\n",
    "        mode=mode3\n",
    "        return mode\n",
    "    return number[number.index==num][mode2][num]\n",
    "\n",
    "def get_pun(i):\n",
    "    num=type_cast[i]%9\n",
    "    if (num==0):\n",
    "        mode=mode1\n",
    "        return mode\n",
    "    return PUNCTUATIONS[str(num)]\n",
    "\n",
    "def switch_case(argument,i):\n",
    "    \n",
    "        \n",
    "    switcher = {\n",
    "        \"UPPERCASE\": get_value_upper(i),\n",
    "        \"LOWERCASE\": get_value_lower(i),\n",
    "        \"PUNCTUATION\": get_pun(i),\n",
    "    }\n",
    "\n",
    "    return switcher.get(argument, \"Invalid input\")\n",
    "\n",
    "\n",
    "for i in range(16):\n",
    "    if switch_case(mode,i) not in modeType:\n",
    "        print(switch_case(mode,i))\n",
    "\n",
    "    if (switch_case(mode,i) in modeType):\n",
    "        mode=switch_case(mode,i)"
   ]
  },
  {
   "cell_type": "code",
   "execution_count": 62,
   "id": "c95e4d1a",
   "metadata": {},
   "outputs": [],
   "source": [
    "mode=modeType[0] #reset"
   ]
  }
 ],
 "metadata": {
  "kernelspec": {
   "display_name": "Python 3 (ipykernel)",
   "language": "python",
   "name": "python3"
  },
  "language_info": {
   "codemirror_mode": {
    "name": "ipython",
    "version": 3
   },
   "file_extension": ".py",
   "mimetype": "text/x-python",
   "name": "python",
   "nbconvert_exporter": "python",
   "pygments_lexer": "ipython3",
   "version": "3.9.12"
  }
 },
 "nbformat": 4,
 "nbformat_minor": 5
}
