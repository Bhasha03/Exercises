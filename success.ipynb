{
 "cells": [
  {
   "cell_type": "code",
   "execution_count": 1,
   "id": "4d4d6dfd",
   "metadata": {},
   "outputs": [],
   "source": [
    "import pandas as pd\n",
    "import numpy as np"
   ]
  },
  {
   "cell_type": "code",
   "execution_count": 2,
   "id": "5ace06b8",
   "metadata": {},
   "outputs": [],
   "source": [
    "import warnings\n",
    "warnings.filterwarnings(\"ignore\")"
   ]
  },
  {
   "cell_type": "code",
   "execution_count": 3,
   "id": "3d791151",
   "metadata": {},
   "outputs": [],
   "source": [
    "first_inventory=pd.read_excel(r\"C:/Users/bhava/Desktop/C.5/Inventory Dataset.xlsx\")\n",
    "second_inventory=pd.read_excel(r\"C:/Users/bhava/Desktop/C.5/New Inventory.xlsx\")"
   ]
  },
  {
   "cell_type": "code",
   "execution_count": 4,
   "id": "8d8f8b04",
   "metadata": {},
   "outputs": [],
   "source": [
    "merged=first_inventory.merge(second_inventory)"
   ]
  },
  {
   "cell_type": "code",
   "execution_count": 5,
   "id": "5e96fbaf",
   "metadata": {},
   "outputs": [],
   "source": [
    "selected_features=merged[['Item Number','Inventory Receive','Total Item Qty']]"
   ]
  },
  {
   "cell_type": "code",
   "execution_count": 6,
   "id": "ec9cdd45",
   "metadata": {},
   "outputs": [],
   "source": [
    "grouped=selected_features.groupby([\"Item Number\",\"Inventory Receive\"]).sum()"
   ]
  },
  {
   "cell_type": "code",
   "execution_count": 7,
   "id": "15069ce2",
   "metadata": {},
   "outputs": [
    {
     "data": {
      "text/html": [
       "<div>\n",
       "<style scoped>\n",
       "    .dataframe tbody tr th:only-of-type {\n",
       "        vertical-align: middle;\n",
       "    }\n",
       "\n",
       "    .dataframe tbody tr th {\n",
       "        vertical-align: top;\n",
       "    }\n",
       "\n",
       "    .dataframe thead th {\n",
       "        text-align: right;\n",
       "    }\n",
       "</style>\n",
       "<table border=\"1\" class=\"dataframe\">\n",
       "  <thead>\n",
       "    <tr style=\"text-align: right;\">\n",
       "      <th></th>\n",
       "      <th></th>\n",
       "      <th>Total Item Qty</th>\n",
       "    </tr>\n",
       "    <tr>\n",
       "      <th>Item Number</th>\n",
       "      <th>Inventory Receive</th>\n",
       "      <th></th>\n",
       "    </tr>\n",
       "  </thead>\n",
       "  <tbody>\n",
       "    <tr>\n",
       "      <th rowspan=\"5\" valign=\"top\">064-01-1346</th>\n",
       "      <th>2023-07-07</th>\n",
       "      <td>1072</td>\n",
       "    </tr>\n",
       "    <tr>\n",
       "      <th>2023-07-09</th>\n",
       "      <td>2464</td>\n",
       "    </tr>\n",
       "    <tr>\n",
       "      <th>2023-07-10</th>\n",
       "      <td>2000</td>\n",
       "    </tr>\n",
       "    <tr>\n",
       "      <th>2023-08-04</th>\n",
       "      <td>1400</td>\n",
       "    </tr>\n",
       "    <tr>\n",
       "      <th>2023-08-16</th>\n",
       "      <td>1000</td>\n",
       "    </tr>\n",
       "    <tr>\n",
       "      <th>...</th>\n",
       "      <th>...</th>\n",
       "      <td>...</td>\n",
       "    </tr>\n",
       "    <tr>\n",
       "      <th rowspan=\"5\" valign=\"top\">064-18-9938</th>\n",
       "      <th>2023-08-04</th>\n",
       "      <td>1368</td>\n",
       "    </tr>\n",
       "    <tr>\n",
       "      <th>2023-08-16</th>\n",
       "      <td>2084</td>\n",
       "    </tr>\n",
       "    <tr>\n",
       "      <th>2023-09-08</th>\n",
       "      <td>2084</td>\n",
       "    </tr>\n",
       "    <tr>\n",
       "      <th>2023-09-29</th>\n",
       "      <td>1976</td>\n",
       "    </tr>\n",
       "    <tr>\n",
       "      <th>2023-10-13</th>\n",
       "      <td>1976</td>\n",
       "    </tr>\n",
       "  </tbody>\n",
       "</table>\n",
       "<p>909 rows × 1 columns</p>\n",
       "</div>"
      ],
      "text/plain": [
       "                               Total Item Qty\n",
       "Item Number Inventory Receive                \n",
       "064-01-1346 2023-07-07                   1072\n",
       "            2023-07-09                   2464\n",
       "            2023-07-10                   2000\n",
       "            2023-08-04                   1400\n",
       "            2023-08-16                   1000\n",
       "...                                       ...\n",
       "064-18-9938 2023-08-04                   1368\n",
       "            2023-08-16                   2084\n",
       "            2023-09-08                   2084\n",
       "            2023-09-29                   1976\n",
       "            2023-10-13                   1976\n",
       "\n",
       "[909 rows x 1 columns]"
      ]
     },
     "execution_count": 7,
     "metadata": {},
     "output_type": "execute_result"
    }
   ],
   "source": [
    "grouped"
   ]
  },
  {
   "cell_type": "code",
   "execution_count": 8,
   "id": "edd66c21",
   "metadata": {},
   "outputs": [],
   "source": [
    "skeleton=grouped.unstack()"
   ]
  },
  {
   "cell_type": "code",
   "execution_count": 9,
   "id": "e4eeba5d",
   "metadata": {},
   "outputs": [],
   "source": [
    "df=pd.DataFrame()\n",
    "for i in grouped.index:\n",
    "    df[i[0],i[1]]=grouped.loc[i[0],i[1]]"
   ]
  },
  {
   "cell_type": "code",
   "execution_count": 10,
   "id": "04ebe836",
   "metadata": {},
   "outputs": [],
   "source": [
    "dates=[]\n",
    "for i in df.columns.get_level_values(0).to_list():\n",
    "    dates.append(str(i[1].date()))\n",
    "skeleton.columns=set(dates)"
   ]
  },
  {
   "cell_type": "code",
   "execution_count": 11,
   "id": "47821bd5",
   "metadata": {},
   "outputs": [],
   "source": [
    "foo=skeleton.fillna(0).sort_index(axis=1)\n",
    "foo.columns=pd.DatetimeIndex(foo.columns)"
   ]
  },
  {
   "cell_type": "code",
   "execution_count": 12,
   "id": "7beca0b8",
   "metadata": {},
   "outputs": [],
   "source": [
    "flag=[]\n",
    "k=0\n",
    "for i in range(len(foo.columns)):\n",
    "    if (foo.columns[i].date()-foo.columns[k].date()).days==7:\n",
    "        flag.append(sum(foo[foo.columns[0]],foo[foo.columns[i]]))\n",
    "        k=i"
   ]
  },
  {
   "cell_type": "code",
   "execution_count": 13,
   "id": "59747363",
   "metadata": {},
   "outputs": [],
   "source": [
    "container=pd.DataFrame()\n",
    "for i in flag:\n",
    "    container[i.name]=i"
   ]
  },
  {
   "cell_type": "code",
   "execution_count": 14,
   "id": "a932c686",
   "metadata": {},
   "outputs": [
    {
     "data": {
      "text/html": [
       "<div>\n",
       "<style scoped>\n",
       "    .dataframe tbody tr th:only-of-type {\n",
       "        vertical-align: middle;\n",
       "    }\n",
       "\n",
       "    .dataframe tbody tr th {\n",
       "        vertical-align: top;\n",
       "    }\n",
       "\n",
       "    .dataframe thead th {\n",
       "        text-align: right;\n",
       "    }\n",
       "</style>\n",
       "<table border=\"1\" class=\"dataframe\">\n",
       "  <thead>\n",
       "    <tr style=\"text-align: right;\">\n",
       "      <th></th>\n",
       "      <th>2023-07-14</th>\n",
       "      <th>2023-07-21</th>\n",
       "      <th>2023-07-28</th>\n",
       "      <th>2023-08-04</th>\n",
       "    </tr>\n",
       "    <tr>\n",
       "      <th>Item Number</th>\n",
       "      <th></th>\n",
       "      <th></th>\n",
       "      <th></th>\n",
       "      <th></th>\n",
       "    </tr>\n",
       "  </thead>\n",
       "  <tbody>\n",
       "    <tr>\n",
       "      <th>064-01-1346</th>\n",
       "      <td>3848.0</td>\n",
       "      <td>1848.0</td>\n",
       "      <td>1848.0</td>\n",
       "      <td>1848.0</td>\n",
       "    </tr>\n",
       "    <tr>\n",
       "      <th>064-01-1347</th>\n",
       "      <td>3848.0</td>\n",
       "      <td>1848.0</td>\n",
       "      <td>1848.0</td>\n",
       "      <td>1848.0</td>\n",
       "    </tr>\n",
       "    <tr>\n",
       "      <th>064-01-1348</th>\n",
       "      <td>3492.0</td>\n",
       "      <td>1848.0</td>\n",
       "      <td>1848.0</td>\n",
       "      <td>1848.0</td>\n",
       "    </tr>\n",
       "    <tr>\n",
       "      <th>064-01-1349</th>\n",
       "      <td>3752.0</td>\n",
       "      <td>1848.0</td>\n",
       "      <td>1848.0</td>\n",
       "      <td>1848.0</td>\n",
       "    </tr>\n",
       "    <tr>\n",
       "      <th>064-01-1351</th>\n",
       "      <td>2496.0</td>\n",
       "      <td>1848.0</td>\n",
       "      <td>1848.0</td>\n",
       "      <td>1848.0</td>\n",
       "    </tr>\n",
       "    <tr>\n",
       "      <th>...</th>\n",
       "      <td>...</td>\n",
       "      <td>...</td>\n",
       "      <td>...</td>\n",
       "      <td>...</td>\n",
       "    </tr>\n",
       "    <tr>\n",
       "      <th>064-18-9089</th>\n",
       "      <td>1848.0</td>\n",
       "      <td>3448.0</td>\n",
       "      <td>3672.0</td>\n",
       "      <td>1848.0</td>\n",
       "    </tr>\n",
       "    <tr>\n",
       "      <th>064-18-9182</th>\n",
       "      <td>1848.0</td>\n",
       "      <td>1848.0</td>\n",
       "      <td>6076.0</td>\n",
       "      <td>1848.0</td>\n",
       "    </tr>\n",
       "    <tr>\n",
       "      <th>064-18-9667</th>\n",
       "      <td>1848.0</td>\n",
       "      <td>1848.0</td>\n",
       "      <td>1848.0</td>\n",
       "      <td>1848.0</td>\n",
       "    </tr>\n",
       "    <tr>\n",
       "      <th>064-18-9724</th>\n",
       "      <td>1848.0</td>\n",
       "      <td>3448.0</td>\n",
       "      <td>1848.0</td>\n",
       "      <td>1848.0</td>\n",
       "    </tr>\n",
       "    <tr>\n",
       "      <th>064-18-9938</th>\n",
       "      <td>1848.0</td>\n",
       "      <td>1848.0</td>\n",
       "      <td>3932.0</td>\n",
       "      <td>1848.0</td>\n",
       "    </tr>\n",
       "  </tbody>\n",
       "</table>\n",
       "<p>166 rows × 4 columns</p>\n",
       "</div>"
      ],
      "text/plain": [
       "             2023-07-14  2023-07-21  2023-07-28  2023-08-04\n",
       "Item Number                                                \n",
       "064-01-1346      3848.0      1848.0      1848.0      1848.0\n",
       "064-01-1347      3848.0      1848.0      1848.0      1848.0\n",
       "064-01-1348      3492.0      1848.0      1848.0      1848.0\n",
       "064-01-1349      3752.0      1848.0      1848.0      1848.0\n",
       "064-01-1351      2496.0      1848.0      1848.0      1848.0\n",
       "...                 ...         ...         ...         ...\n",
       "064-18-9089      1848.0      3448.0      3672.0      1848.0\n",
       "064-18-9182      1848.0      1848.0      6076.0      1848.0\n",
       "064-18-9667      1848.0      1848.0      1848.0      1848.0\n",
       "064-18-9724      1848.0      3448.0      1848.0      1848.0\n",
       "064-18-9938      1848.0      1848.0      3932.0      1848.0\n",
       "\n",
       "[166 rows x 4 columns]"
      ]
     },
     "execution_count": 14,
     "metadata": {},
     "output_type": "execute_result"
    }
   ],
   "source": [
    "container # inventory on a weekly basis."
   ]
  },
  {
   "cell_type": "markdown",
   "id": "ce8651bc",
   "metadata": {},
   "source": [
    "Task 1 accomplished\n",
    "-------------------"
   ]
  },
  {
   "cell_type": "code",
   "execution_count": 15,
   "id": "82925061",
   "metadata": {},
   "outputs": [],
   "source": [
    "# container['2023-07-14'].value_counts()\n",
    "# container['2023-07-21'].value_counts()\n",
    "# container['2023-07-28'].value_counts()\n",
    "# container['2023-08-04'].value_counts()"
   ]
  },
  {
   "cell_type": "code",
   "execution_count": 16,
   "id": "9d844071",
   "metadata": {},
   "outputs": [],
   "source": [
    "import matplotlib.pyplot as plt"
   ]
  },
  {
   "cell_type": "code",
   "execution_count": 17,
   "id": "f9021b7f",
   "metadata": {},
   "outputs": [
    {
     "data": {
      "text/plain": [
       "DatetimeIndex(['2023-07-07', '2023-07-09', '2023-07-10', '2023-07-14',\n",
       "               '2023-07-21', '2023-07-28', '2023-08-04', '2023-08-16',\n",
       "               '2023-08-18', '2023-08-22', '2023-08-25', '2023-09-08',\n",
       "               '2023-09-29', '2023-10-13'],\n",
       "              dtype='datetime64[ns]', freq=None)"
      ]
     },
     "execution_count": 17,
     "metadata": {},
     "output_type": "execute_result"
    }
   ],
   "source": [
    "foo.columns"
   ]
  },
  {
   "cell_type": "code",
   "execution_count": 18,
   "id": "654247fd",
   "metadata": {},
   "outputs": [],
   "source": [
    "match=dict()\n",
    "for i in foo.columns:\n",
    "    if i in match:\n",
    "        match[i]+=foo[i].sum().sum()\n",
    "    else:\n",
    "        match[i]=foo[i].sum().sum()"
   ]
  },
  {
   "cell_type": "code",
   "execution_count": 19,
   "id": "4a20f229",
   "metadata": {},
   "outputs": [
    {
     "data": {
      "text/plain": [
       "{Timestamp('2023-07-07 00:00:00'): 1848.0,\n",
       " Timestamp('2023-07-09 00:00:00'): 70284.0,\n",
       " Timestamp('2023-07-10 00:00:00'): 210960.0,\n",
       " Timestamp('2023-07-14 00:00:00'): 166708.0,\n",
       " Timestamp('2023-07-21 00:00:00'): 16336.0,\n",
       " Timestamp('2023-07-28 00:00:00'): 157028.0,\n",
       " Timestamp('2023-08-04 00:00:00'): 23200.0,\n",
       " Timestamp('2023-08-16 00:00:00'): 341268.0,\n",
       " Timestamp('2023-08-18 00:00:00'): 192178.0,\n",
       " Timestamp('2023-08-22 00:00:00'): 413044.0,\n",
       " Timestamp('2023-08-25 00:00:00'): 9514.0,\n",
       " Timestamp('2023-09-08 00:00:00'): 183554.0,\n",
       " Timestamp('2023-09-29 00:00:00'): 94482.0,\n",
       " Timestamp('2023-10-13 00:00:00'): 3600.0}"
      ]
     },
     "execution_count": 19,
     "metadata": {},
     "output_type": "execute_result"
    }
   ],
   "source": [
    "match"
   ]
  },
  {
   "cell_type": "code",
   "execution_count": 20,
   "id": "7000bb54",
   "metadata": {},
   "outputs": [],
   "source": [
    "convert_list = [(key.month, value) for key, value in match.items()]"
   ]
  },
  {
   "cell_type": "code",
   "execution_count": 21,
   "id": "fc4d14a7",
   "metadata": {},
   "outputs": [
    {
     "data": {
      "text/plain": [
       "[(7, 1848.0),\n",
       " (7, 70284.0),\n",
       " (7, 210960.0),\n",
       " (7, 166708.0),\n",
       " (7, 16336.0),\n",
       " (7, 157028.0),\n",
       " (8, 23200.0),\n",
       " (8, 341268.0),\n",
       " (8, 192178.0),\n",
       " (8, 413044.0),\n",
       " (8, 9514.0),\n",
       " (9, 183554.0),\n",
       " (9, 94482.0),\n",
       " (10, 3600.0)]"
      ]
     },
     "execution_count": 21,
     "metadata": {},
     "output_type": "execute_result"
    }
   ],
   "source": [
    "convert_list"
   ]
  },
  {
   "cell_type": "code",
   "execution_count": 22,
   "id": "f381f60f",
   "metadata": {},
   "outputs": [
    {
     "name": "stdout",
     "output_type": "stream",
     "text": [
      "{7: 11088.0, 8: 9240.0, 9: 3696.0, 10: 1848.0}\n"
     ]
    }
   ],
   "source": [
    "final_dict={}\n",
    "for i in range(len(convert_list)):\n",
    "    if convert_list[i][0] in final_dict:\n",
    "        final_dict[convert_list[i][0]] += convert_list[0][1]\n",
    "    else:\n",
    "        final_dict[convert_list[i][0]] = convert_list[0][1]\n",
    "print(final_dict)"
   ]
  },
  {
   "cell_type": "code",
   "execution_count": 23,
   "id": "72bc6840",
   "metadata": {},
   "outputs": [],
   "source": [
    "labels = list(final_dict.keys())\n",
    "heights = list(final_dict.values())"
   ]
  },
  {
   "cell_type": "code",
   "execution_count": 24,
   "id": "ed4ad0ca",
   "metadata": {},
   "outputs": [
    {
     "data": {
      "image/png": "[encoded data removed]",
      "text/plain": [
       "<Figure size 640x480 with 1 Axes>"
      ]
     },
     "metadata": {},
     "output_type": "display_data"
    }
   ],
   "source": [
    "bars = plt.bar(labels,heights)\n",
    "\n",
    "plt.xlabel('Months')\n",
    "plt.ylabel('Sum of inventory levels')\n",
    "plt.title('Bar Chart')\n",
    "\n",
    "# total summation\n",
    "plt.yticks(heights)\n",
    "\n",
    "plt.show()"
   ]
  },
  {
   "cell_type": "markdown",
   "id": "c119cfef",
   "metadata": {},
   "source": [
    "Task 2 accomplished\n",
    "-------------------\n",
    "The end"
   ]
  }
 ],
 "metadata": {
  "kernelspec": {
   "display_name": "Python 3 (ipykernel)",
   "language": "python",
   "name": "python3"
  },
  "language_info": {
   "codemirror_mode": {
    "name": "ipython",
    "version": 3
   },
   "file_extension": ".py",
   "mimetype": "text/x-python",
   "name": "python",
   "nbconvert_exporter": "python",
   "pygments_lexer": "ipython3",
   "version": "3.9.12"
  }
 },
 "nbformat": 4,
 "nbformat_minor": 5
}
