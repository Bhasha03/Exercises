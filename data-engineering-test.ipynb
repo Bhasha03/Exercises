{
 "cells": [
  {
   "cell_type": "markdown",
   "metadata": {
    "id": "-x5KVXC4scPv"
   },
   "source": [
    "DATA ENGINEER - PYTHON"
   ]
  },
  {
   "cell_type": "markdown",
   "metadata": {
    "id": "0VAs33LescP2"
   },
   "source": [
    "This test consits of twenty problems divided among six separated sections. You are required to write your code in cell below each problem and output the result in cell next to it"
   ]
  },
  {
   "cell_type": "markdown",
   "metadata": {
    "id": "dOODaafpscP3"
   },
   "source": [
    "**Total Time**: 4 hours <br>\n",
    "**Maximum Marks**: 150"
   ]
  },
  {
   "cell_type": "markdown",
   "metadata": {
    "id": "M8cbjalyhT-4"
   },
   "source": [
    "**STACK CHOICE**<br>\n",
    "You can choose to code in either of the two stacks below\n",
    "\n"
   ]
  },
  {
   "cell_type": "markdown",
   "metadata": {
    "id": "2qtogMMohiP8"
   },
   "source": [
    "**STACK A**: Python3"
   ]
  },
  {
   "cell_type": "markdown",
   "metadata": {
    "id": "BaUnmZYrh_25"
   },
   "source": [
    "**NOTE 1**: You must code in Python3 <br>\n",
    "**NOTE 2**: You should code in functional programming paradigm (lamda, map, reduce, filter etc). This is not mandatory, however, highly desired <br>\n",
    "**NOTE 3**: You must keep path, paramaters & variables as dynamic (don't hardcode them) <br>\n",
    "**NOTE 4**: You can use 'for loops' or any loop whatsoever, however, it would be desired if you can avoid them <br>\n",
    "**NOTE 5**: You can remove code statements related to PySpark3, if happen to choose this stack for coding"
   ]
  },
  {
   "cell_type": "markdown",
   "metadata": {
    "id": "rcJ_CvG-itRO"
   },
   "source": [
    "**------------------------------------------------------------------------------ OR ------------------------------------------------------------------------------**"
   ]
  },
  {
   "cell_type": "markdown",
   "metadata": {
    "id": "WukJ_A0EhYYv"
   },
   "source": [
    "**STACK B**: PySpark3"
   ]
  },
  {
   "cell_type": "markdown",
   "metadata": {
    "id": "LiGYw_q0scP3"
   },
   "source": [
    "**NOTE 1**: You must code in PySpark3 <br>\n",
    "**NOTE 2**: You must code in functional programming paradigm (lamda, map, reduce, filter etc) <br>\n",
    "**NOTE 3**: You must keep path, paramaters & variables as dynamic (don't hardcode them) <br>\n",
    "**NOTE 4**: You strictly can't use 'for loops' or any loop whatsoever"
   ]
  },
  {
   "cell_type": "markdown",
   "metadata": {
    "id": "WCqPOAdWscP4"
   },
   "source": [
    "Rename and Save the notebook as data-engineer-python_firstname-lastname (eg. data-engineer-python_sahil-gupta.ipynb)"
   ]
  },
  {
   "cell_type": "markdown",
   "metadata": {
    "id": "CNz-9PxIscP5"
   },
   "source": [
    "Your FullName: Bhavani Shankar\n",
    "Your Email: bhavanishankar.leadindia@gmail.com\n",
    "Your Mobile No: 8465854161"
   ]
  },
  {
   "cell_type": "markdown",
   "metadata": {
    "id": "d5A0Lpj_scP5"
   },
   "source": [
    "********************************************* Test starts here **************************************************"
   ]
  },
  {
   "cell_type": "markdown",
   "metadata": {
    "id": "9JDFYWyDscP5"
   },
   "source": [
    "**DATASETS**:\n",
    "\n",
    "1. folder 'sales' *(consists of eight CSVs corresponding to sales database)*\n",
    "2. orchestra.json\n",
    "3. orchestra.xml\n",
    "4. sms.txt"
   ]
  },
  {
   "cell_type": "markdown",
   "metadata": {
    "id": "KOXA0balscP6"
   },
   "source": [
    "**INSTRUCTIONS**:\n",
    "\n",
    "1. You are required to download and import datasets mentioned above\n",
    "2. You would need to understand business involved behind sales database tables (eight). This is important!\n",
    "3. Either your code should output something or leave the original comment \"#pyspark3 code here\" AS IT IS. We shall use 'Run All' in notebook and it shouldn't result an error\n",
    "4. Test the entire notebook before uploading to Google Form provided\n",
    "5. You can use any library in Python3/PySpark3 (untill unless prohibited to use for a paticular problem)\n",
    "6. Output fieldname to be displayed are marked as single quotes ' ' in problem statement. You should use same field alias names whereever required\n",
    "7. Notation for dataframe and/or array must be local to a problem's solution. Eg. Dataframe \"test\" for problem 8 should be df_prb8_test"
   ]
  },
  {
   "cell_type": "code",
   "execution_count": 1,
   "metadata": {
    "executionInfo": {
     "elapsed": 366,
     "status": "ok",
     "timestamp": 1701567960879,
     "user": {
      "displayName": "Busigence Careers",
      "userId": "02805263613935437233"
     },
     "user_tz": -330
    },
    "id": "iuYjjiZmzcMz"
   },
   "outputs": [],
   "source": [
    "#pyspark installation command - uncomment, install and comment back\n",
    "#!pip install pyspark"
   ]
  },
  {
   "cell_type": "code",
   "execution_count": 2,
   "metadata": {
    "executionInfo": {
     "elapsed": 106,
     "status": "ok",
     "timestamp": 1701567964984,
     "user": {
      "displayName": "Busigence Careers",
      "userId": "02805263613935437233"
     },
     "user_tz": -330
    },
    "id": "JcuuflXQRUb8"
   },
   "outputs": [],
   "source": [
    "#intall remaining required libraries - uncomment, install and comment back\n",
    "#!pip install sklearn"
   ]
  },
  {
   "cell_type": "code",
   "execution_count": 3,
   "metadata": {
    "executionInfo": {
     "elapsed": 102,
     "status": "ok",
     "timestamp": 1701567964985,
     "user": {
      "displayName": "Busigence Careers",
      "userId": "02805263613935437233"
     },
     "user_tz": -330
    },
    "id": "Zpo3R0kJscP8"
   },
   "outputs": [],
   "source": [
    "import numpy as np\n",
    "import pandas as pd\n",
    "#import sklearn\n",
    "#import remaining libraries here"
   ]
  },
  {
   "cell_type": "code",
   "execution_count": 4,
   "metadata": {
    "executionInfo": {
     "elapsed": 100,
     "status": "ok",
     "timestamp": 1701567964985,
     "user": {
      "displayName": "Busigence Careers",
      "userId": "02805263613935437233"
     },
     "user_tz": -330
    },
    "id": "ClvtMDAg7Kr1"
   },
   "outputs": [],
   "source": [
    "#import pyspark\n",
    "#from pyspark.context import SparkContext"
   ]
  },
  {
   "cell_type": "code",
   "execution_count": 5,
   "metadata": {
    "executionInfo": {
     "elapsed": 99,
     "status": "ok",
     "timestamp": 1701567964987,
     "user": {
      "displayName": "Busigence Careers",
      "userId": "02805263613935437233"
     },
     "user_tz": -330
    },
    "id": "M2yEB8L0MA4d"
   },
   "outputs": [],
   "source": [
    "#comment for first run\n",
    "#sc.stop()"
   ]
  },
  {
   "cell_type": "code",
   "execution_count": 6,
   "metadata": {
    "executionInfo": {
     "elapsed": 100,
     "status": "ok",
     "timestamp": 1701567964990,
     "user": {
      "displayName": "Busigence Careers",
      "userId": "02805263613935437233"
     },
     "user_tz": -330
    },
    "id": "ICqI0kWA6Sig"
   },
   "outputs": [],
   "source": [
    "#you can modify configuration values\n",
    "#conf = pyspark.SparkConf().setAppName(\"App\")\n",
    "#conf = (\n",
    "#         conf.setMaster('local')\n",
    "#        .set('spark.driver.memory', '8G')\n",
    "#        .set('spark.driver.cores', '8')\n",
    "#        .set('spark.python.worker.memory', '4G')\n",
    "#        .set('spark.worker.cores', '2')\n",
    "#        .set('spark.workerEnv.SPARK_WORKER_INSTANCES', '4')\n",
    "#        .set('spark.executor.instances', '8')\n",
    "#       )\n",
    "#\n",
    "#sc = pyspark.SparkContext(conf=conf)"
   ]
  },
  {
   "cell_type": "code",
   "execution_count": 7,
   "metadata": {
    "executionInfo": {
     "elapsed": 98,
     "status": "ok",
     "timestamp": 1701567964992,
     "user": {
      "displayName": "Busigence Careers",
      "userId": "02805263613935437233"
     },
     "user_tz": -330
    },
    "id": "vus4Qa__scP-"
   },
   "outputs": [],
   "source": [
    "#import CSVs (eight) here\n",
    "\n",
    "calender = pd.read_csv(r\"C:/Users/bhava/Desktop/BUSIGENCE/datasets/sales/calendar.csv\")\n",
    "order_returns = pd.read_csv(r\"C:/Users/bhava/Desktop/BUSIGENCE/datasets/sales/order_returns.csv\")\n",
    "product_categories = pd.read_csv(r\"C:/Users/bhava/Desktop/BUSIGENCE/datasets/sales/product_categories.csv\")\n",
    "product_subcategories = pd.read_csv(r\"C:/Users/bhava/Desktop/BUSIGENCE/datasets/sales/product_subcategories.csv\")\n",
    "products=pd.read_csv(r\"C:/Users/bhava/Desktop/BUSIGENCE/datasets/sales/products.csv\")\n",
    "sales = pd.read_csv(r\"C:/Users/bhava/Desktop/BUSIGENCE/datasets/sales/sales.csv\")\n",
    "territories = pd.read_csv(r\"C:/Users/bhava/Desktop/BUSIGENCE/datasets/sales/territories.csv\")\n",
    "customers = pd.read_excel(r\"C:/Users/bhava/Desktop/BUSIGENCE/datasets/sales/customers.xlsx\")\n",
    "\n",
    "#import JSONs (one) here\n",
    "orchestra = pd.read_json(r\"C:/Users/bhava/Desktop/BUSIGENCE/datasets/orchestra.json\")\n",
    "\n",
    "#import XMLs (one) here\n",
    "#import TXT (one) here"
   ]
  },
  {
   "cell_type": "code",
   "execution_count": 8,
   "metadata": {},
   "outputs": [],
   "source": [
    "import warnings\n",
    "warnings.filterwarnings(\"ignore\")"
   ]
  },
  {
   "cell_type": "markdown",
   "metadata": {
    "id": "O62-2CeQscP-"
   },
   "source": [
    "**SCORING**:\n",
    "\n",
    "This assessment is broadly divided into six sections A,B,C,D,E&F. All sections are mandatory\n",
    "\n",
    "**Section A**: 30 marks <br>\n",
    "**Section B**: 15 marks <br>\n",
    "**Section C**: 15 marks <br>\n",
    "**Section D**: 25 marks <br>\n",
    "**Section E**: 15 marks <br>\n",
    "**Section F**: 50 marks"
   ]
  },
  {
   "cell_type": "markdown",
   "metadata": {
    "id": "77P24RdzscP_"
   },
   "source": [
    "************************************************ SECTION: A begins *******************************************"
   ]
  },
  {
   "cell_type": "markdown",
   "metadata": {
    "id": "8pkGLXYNscP_"
   },
   "source": [
    "Refer & Use sales database tables (eight CSVs) to answer problem 1-5 below. <br> You cannot use any library that allows you to query pandas/pyspark DataFrames using SQL syntax. This means you would need to write code in python/pyspark, not SQL"
   ]
  },
  {
   "cell_type": "markdown",
   "metadata": {
    "id": "H_JI60i5scQA"
   },
   "source": [
    "**PROBLEM 1**: Fetch the product(s) - with product description consisting of \"Universal fit, well-vented\" and meet the condition c1\n",
    "\n",
    "------\n",
    "condition c1 - product had been ordered more than five times within a month \"continously\" over months\n",
    "\n",
    "continously means \"month after month\" this condition c1 had been met\n",
    "\n",
    "Eg. IF (in jan 2016 that particular product had been ordered more than five times, in feb 2016 too, in mar 2016 too, however, in apr 2016 this product had not been ordered more than five times, no matter again in may 2016 it had been again ordered more than five times) --- condition c1 stands failed"
   ]
  },
  {
   "cell_type": "code",
   "execution_count": 9,
   "metadata": {
    "executionInfo": {
     "elapsed": 97,
     "status": "ok",
     "timestamp": 1701567964993,
     "user": {
      "displayName": "Busigence Careers",
      "userId": "02805263613935437233"
     },
     "user_tz": -330
    },
    "id": "0D1TfefGscQA"
   },
   "outputs": [
    {
     "name": "stdout",
     "output_type": "stream",
     "text": [
      "       OrderDate  StockDate OrderNumber  ProductKey  CustomerKey   \n",
      "4349  2016-07-01  4/25/2003     SO51180         214        16313  \\\n",
      "4357  2016-07-01   3/8/2003     SO51181         214        12132   \n",
      "4383  2016-07-02  6/11/2003     SO51191         214        12390   \n",
      "4400  2016-07-02   3/4/2003     SO51192         214        11241   \n",
      "4430  2016-07-03  3/20/2003     SO51207         214        11338   \n",
      "...          ...        ...         ...         ...          ...   \n",
      "55744 2017-06-29  4/16/2004     SO74083         214        22238   \n",
      "55742 2017-06-29  3/15/2004     SO74087         214        26983   \n",
      "55739 2017-06-29   4/9/2004     SO74069         214        22748   \n",
      "55781 2017-06-29   4/9/2004     SO74063         214        18827   \n",
      "56009 2017-06-30   6/4/2004     SO74110         214        24727   \n",
      "\n",
      "       TerritoryKey  OrderLineItem  OrderQuantity  \n",
      "4349              8              4              1  \n",
      "4357              7              4              1  \n",
      "4383              8              4              1  \n",
      "4400              7              2              1  \n",
      "4430              8              4              1  \n",
      "...             ...            ...            ...  \n",
      "55744             1              2              1  \n",
      "55742             8              2              1  \n",
      "55739             6              3              1  \n",
      "55781             1              2              1  \n",
      "56009             1              3              1  \n",
      "\n",
      "[2099 rows x 8 columns]\n",
      "       OrderDate  StockDate OrderNumber  ProductKey  CustomerKey   \n",
      "4346  2016-07-01   3/4/2003     SO51177         215        27873  \\\n",
      "4372  2016-07-02  3/10/2003     SO51194         215        11089   \n",
      "4406  2016-07-02   3/9/2003     SO51189         215        16688   \n",
      "4439  2016-07-03  3/12/2003     SO51219         215        25086   \n",
      "4445  2016-07-03  4/11/2003     SO51209         215        13059   \n",
      "...          ...        ...         ...         ...          ...   \n",
      "55777 2017-06-29  4/10/2004     SO74037         215        13515   \n",
      "55960 2017-06-30   5/7/2004     SO74135         215        28368   \n",
      "56001 2017-06-30   4/1/2004     SO74134         215        20051   \n",
      "55920 2017-06-30  6/14/2004     SO74136         215        14055   \n",
      "56038 2017-06-30  4/11/2004     SO74105         215        20223   \n",
      "\n",
      "       TerritoryKey  OrderLineItem  OrderQuantity  \n",
      "4346              9              2              1  \n",
      "4372              4              3              1  \n",
      "4406              9              2              1  \n",
      "4439              4              5              1  \n",
      "4445              4              3              1  \n",
      "...             ...            ...            ...  \n",
      "55777             8              4              1  \n",
      "55960             7              4              1  \n",
      "56001             8              2              1  \n",
      "55920             9              3              1  \n",
      "56038             9              3              1  \n",
      "\n",
      "[1940 rows x 8 columns]\n",
      "       OrderDate  StockDate OrderNumber  ProductKey  CustomerKey   \n",
      "4368  2016-07-01  3/15/2003     SO51184         220        11263  \\\n",
      "4376  2016-07-02  4/28/2003     SO51196         220        18906   \n",
      "4392  2016-07-02  4/20/2003     SO51201         220        27820   \n",
      "4414  2016-07-03  3/25/2003     SO51205         220        11240   \n",
      "4421  2016-07-03   5/2/2003     SO51208         220        23234   \n",
      "...          ...        ...         ...         ...          ...   \n",
      "55988 2017-06-30  4/24/2004     SO74144         220        12314   \n",
      "55936 2017-06-30  4/21/2004     SO74106         220        16250   \n",
      "55934 2017-06-30   3/2/2004     SO74107         220        13570   \n",
      "55946 2017-06-30  3/25/2004     SO74138         220        26303   \n",
      "56013 2017-06-30  5/13/2004     SO74125         220        11717   \n",
      "\n",
      "       TerritoryKey  OrderLineItem  OrderQuantity  \n",
      "4368              1              4              1  \n",
      "4376              9              4              1  \n",
      "4392             10              2              1  \n",
      "4414             10              4              1  \n",
      "4421              8              2              1  \n",
      "...             ...            ...            ...  \n",
      "55988             8              2              1  \n",
      "55936            10              2              1  \n",
      "55934             8              4              1  \n",
      "55946             4              2              1  \n",
      "56013             1              4              1  \n",
      "\n",
      "[1995 rows x 8 columns]\n"
     ]
    }
   ],
   "source": [
    "literal=\"Universal fit, well-vented\"\n",
    "df_prb1_products=pd.DataFrame(products)\n",
    "df_prb1_literal=df_prb1_products[df_prb1_products['ProductDescription'].apply(lambda x:True if literal in x else False)]\n",
    "df_prb1_keys=list(df_prb1_literal.ProductKey)\n",
    "df_prb1_allkeys = sales[sales.ProductKey.apply(lambda x: True if x in df_prb1_keys else False)]\n",
    "df_prb1_allkeys.OrderDate=pd.to_datetime(df_prb1_allkeys.OrderDate)\n",
    "df_prb1_214= df_prb1_allkeys[df_prb1_allkeys.ProductKey==df_prb1_keys[0]]\n",
    "df_prb1_215= df_prb1_allkeys[df_prb1_allkeys.ProductKey==df_prb1_keys[1]]\n",
    "df_prb1_220= df_prb1_allkeys[df_prb1_allkeys.ProductKey==df_prb1_keys[2]]\n",
    "\n",
    "df_prb1_214= df_prb1_214.sort_values(by= 'OrderDate')\n",
    "df_prb1_215= df_prb1_215.sort_values(by= 'OrderDate')\n",
    "df_prb1_220= df_prb1_220.sort_values(by= 'OrderDate')\n",
    "\n",
    "df_prb1_214_years=list(set(df_prb1_214['OrderDate'].dt.year))\n",
    "df_prb1_215_years=list(set(df_prb1_215['OrderDate'].dt.year))\n",
    "df_prb1_220_years=list(set(df_prb1_220['OrderDate'].dt.year))\n",
    "\n",
    "if (df_prb1_214[df_prb1_214['OrderDate'].dt.year==df_prb1_214_years[0]]['OrderDate'].dt.month.value_counts()>5).all() and (df_prb1_214[df_prb1_214['OrderDate'].dt.year==df_prb1_214_years[1]]['OrderDate'].dt.month.value_counts()>5).all() == True:\n",
    "    print(df_prb1_214)\n",
    "if (df_prb1_215[df_prb1_215['OrderDate'].dt.year==df_prb1_215_years[0]]['OrderDate'].dt.month.value_counts()>5).all() and (df_prb1_215[df_prb1_215['OrderDate'].dt.year==df_prb1_215_years[1]]['OrderDate'].dt.month.value_counts()>5).all() == True:\n",
    "    print(df_prb1_215)\n",
    "if (df_prb1_220[df_prb1_220['OrderDate'].dt.year==df_prb1_220_years[0]]['OrderDate'].dt.month.value_counts()>5).all() and (df_prb1_220[df_prb1_220['OrderDate'].dt.year==df_prb1_220_years[1]]['OrderDate'].dt.month.value_counts()>5).all() == True:\n",
    "    print(df_prb1_220)"
   ]
  },
  {
   "cell_type": "markdown",
   "metadata": {
    "id": "-f1bPomVscQB"
   },
   "source": [
    "**PROBLEM 2**: Fetch total orders made by married male customers belonging to Central America occupied in a clerical job"
   ]
  },
  {
   "cell_type": "code",
   "execution_count": 10,
   "metadata": {
    "executionInfo": {
     "elapsed": 95,
     "status": "ok",
     "timestamp": 1701567964993,
     "user": {
      "displayName": "Busigence Careers",
      "userId": "02805263613935437233"
     },
     "user_tz": -330
    },
    "id": "zSoOj63escQB"
   },
   "outputs": [
    {
     "name": "stdout",
     "output_type": "stream",
     "text": [
      "0\n"
     ]
    }
   ],
   "source": [
    "df_central=sales[sales.TerritoryKey ==int(territories[territories.Region==\"Central\"].SalesTerritoryKey)]\n",
    "cx=customers[customers['Gender']=='M']\n",
    "cx=cx[cx['MaritalStatus'] == \"M\"]\n",
    "cx=cx[cx[\"Occupation\"] == \"Clerical\"]\n",
    "orders=df_central[df_central.CustomerKey.apply( lambda x: x in list(cx.CustomerKey))]\n",
    "print(len(orders))"
   ]
  },
  {
   "cell_type": "markdown",
   "metadata": {
    "id": "uZQxb5dGscQC"
   },
   "source": [
    "**PROBLEM 3**: List customers who ordered same product more than once in a month"
   ]
  },
  {
   "cell_type": "code",
   "execution_count": 11,
   "metadata": {
    "executionInfo": {
     "elapsed": 95,
     "status": "ok",
     "timestamp": 1701567964993,
     "user": {
      "displayName": "Busigence Careers",
      "userId": "02805263613935437233"
     },
     "user_tz": -330
    },
    "id": "1aejdSQxscQC"
   },
   "outputs": [
    {
     "data": {
      "text/html": [
       "<div>\n",
       "<style scoped>\n",
       "    .dataframe tbody tr th:only-of-type {\n",
       "        vertical-align: middle;\n",
       "    }\n",
       "\n",
       "    .dataframe tbody tr th {\n",
       "        vertical-align: top;\n",
       "    }\n",
       "\n",
       "    .dataframe thead th {\n",
       "        text-align: right;\n",
       "    }\n",
       "</style>\n",
       "<table border=\"1\" class=\"dataframe\">\n",
       "  <thead>\n",
       "    <tr style=\"text-align: right;\">\n",
       "      <th></th>\n",
       "      <th>Prefix</th>\n",
       "      <th>FirstName</th>\n",
       "      <th>LastName</th>\n",
       "    </tr>\n",
       "  </thead>\n",
       "  <tbody>\n",
       "    <tr>\n",
       "      <th>0</th>\n",
       "      <td>MR.</td>\n",
       "      <td>JON</td>\n",
       "      <td>YANG</td>\n",
       "    </tr>\n",
       "    <tr>\n",
       "      <th>1</th>\n",
       "      <td>MR.</td>\n",
       "      <td>EUGENE</td>\n",
       "      <td>HUANG</td>\n",
       "    </tr>\n",
       "    <tr>\n",
       "      <th>3</th>\n",
       "      <td>MS.</td>\n",
       "      <td>CHRISTY</td>\n",
       "      <td>ZHU</td>\n",
       "    </tr>\n",
       "    <tr>\n",
       "      <th>4</th>\n",
       "      <td>MRS.</td>\n",
       "      <td>ELIZABETH</td>\n",
       "      <td>JOHNSON</td>\n",
       "    </tr>\n",
       "    <tr>\n",
       "      <th>5</th>\n",
       "      <td>MR.</td>\n",
       "      <td>JULIO</td>\n",
       "      <td>RUIZ</td>\n",
       "    </tr>\n",
       "    <tr>\n",
       "      <th>...</th>\n",
       "      <td>...</td>\n",
       "      <td>...</td>\n",
       "      <td>...</td>\n",
       "    </tr>\n",
       "    <tr>\n",
       "      <th>18115</th>\n",
       "      <td>MR.</td>\n",
       "      <td>GEOFFREY</td>\n",
       "      <td>LOPEZ</td>\n",
       "    </tr>\n",
       "    <tr>\n",
       "      <th>18132</th>\n",
       "      <td>MRS.</td>\n",
       "      <td>JACQUELINE</td>\n",
       "      <td>MORRIS</td>\n",
       "    </tr>\n",
       "    <tr>\n",
       "      <th>18133</th>\n",
       "      <td>MRS.</td>\n",
       "      <td>DOMINIQUE</td>\n",
       "      <td>SAUNDERS</td>\n",
       "    </tr>\n",
       "    <tr>\n",
       "      <th>18141</th>\n",
       "      <td>MR.</td>\n",
       "      <td>NEIL</td>\n",
       "      <td>RUIZ</td>\n",
       "    </tr>\n",
       "    <tr>\n",
       "      <th>18142</th>\n",
       "      <td>MR.</td>\n",
       "      <td>DARREN</td>\n",
       "      <td>CARLSON</td>\n",
       "    </tr>\n",
       "  </tbody>\n",
       "</table>\n",
       "<p>5935 rows × 3 columns</p>\n",
       "</div>"
      ],
      "text/plain": [
       "      Prefix   FirstName  LastName\n",
       "0        MR.         JON      YANG\n",
       "1        MR.      EUGENE     HUANG\n",
       "3        MS.     CHRISTY       ZHU\n",
       "4       MRS.   ELIZABETH   JOHNSON\n",
       "5        MR.       JULIO      RUIZ\n",
       "...      ...         ...       ...\n",
       "18115    MR.    GEOFFREY     LOPEZ\n",
       "18132   MRS.  JACQUELINE    MORRIS\n",
       "18133   MRS.   DOMINIQUE  SAUNDERS\n",
       "18141    MR.        NEIL      RUIZ\n",
       "18142    MR.      DARREN   CARLSON\n",
       "\n",
       "[5935 rows x 3 columns]"
      ]
     },
     "execution_count": 11,
     "metadata": {},
     "output_type": "execute_result"
    }
   ],
   "source": [
    "sales.OrderDate=pd.to_datetime(sales.OrderDate)\n",
    "df_prb3_years=list(set(sales['OrderDate'].dt.year))\n",
    "df_prb3_2016=sales[sales['OrderDate'].dt.year==df_prb3_years[0]]\n",
    "df_prb3_2016['Month']=df_prb3_2016['OrderDate'].dt.month\n",
    "df_prb3_features = df_prb3_2016[['ProductKey','Month','OrderQuantity','CustomerKey']]\n",
    "df_prb3_bool= df_prb3_features.groupby(['CustomerKey','ProductKey','Month']).sum() > 1\n",
    "df_prb3_loyalCustomers=list(set(df_prb3_bool[df_prb3_bool['OrderQuantity']==True].index.get_level_values(0)))\n",
    "df_prb3_names= customers[customers.CustomerKey.apply(lambda x:x in df_prb3_loyalCustomers)][['Prefix','FirstName','LastName']]\n",
    "df_prb3_names"
   ]
  },
  {
   "cell_type": "markdown",
   "metadata": {
    "id": "eNtpSDPZscQC"
   },
   "source": [
    "**PROBLEM 4**: Supose Today is May 23, 2016. Display month-to-date count of returned orders <br>\n",
    "NOTE: Month-to-date is a period starting at the beginning of the current month and ending at the current date. If today's date is May 23, 2016, then month-to-date shall be period between inclusive of May 01,2016 and May 23,2016"
   ]
  },
  {
   "cell_type": "code",
   "execution_count": 12,
   "metadata": {
    "executionInfo": {
     "elapsed": 94,
     "status": "ok",
     "timestamp": 1701567964994,
     "user": {
      "displayName": "Busigence Careers",
      "userId": "02805263613935437233"
     },
     "user_tz": -330
    },
    "id": "pLNa3WiWscQC"
   },
   "outputs": [
    {
     "data": {
      "text/html": [
       "<div>\n",
       "<style scoped>\n",
       "    .dataframe tbody tr th:only-of-type {\n",
       "        vertical-align: middle;\n",
       "    }\n",
       "\n",
       "    .dataframe tbody tr th {\n",
       "        vertical-align: top;\n",
       "    }\n",
       "\n",
       "    .dataframe thead th {\n",
       "        text-align: right;\n",
       "    }\n",
       "</style>\n",
       "<table border=\"1\" class=\"dataframe\">\n",
       "  <thead>\n",
       "    <tr style=\"text-align: right;\">\n",
       "      <th></th>\n",
       "      <th>ReturnDate</th>\n",
       "      <th>month-to-date count</th>\n",
       "    </tr>\n",
       "  </thead>\n",
       "  <tbody>\n",
       "    <tr>\n",
       "      <th>0</th>\n",
       "      <td>1/18/2015</td>\n",
       "      <td>18</td>\n",
       "    </tr>\n",
       "    <tr>\n",
       "      <th>2</th>\n",
       "      <td>1/21/2015</td>\n",
       "      <td>21</td>\n",
       "    </tr>\n",
       "    <tr>\n",
       "      <th>3</th>\n",
       "      <td>1/22/2015</td>\n",
       "      <td>22</td>\n",
       "    </tr>\n",
       "    <tr>\n",
       "      <th>4</th>\n",
       "      <td>2/2/2015</td>\n",
       "      <td>2</td>\n",
       "    </tr>\n",
       "    <tr>\n",
       "      <th>5</th>\n",
       "      <td>2/15/2015</td>\n",
       "      <td>15</td>\n",
       "    </tr>\n",
       "    <tr>\n",
       "      <th>...</th>\n",
       "      <td>...</td>\n",
       "      <td>...</td>\n",
       "    </tr>\n",
       "    <tr>\n",
       "      <th>1781</th>\n",
       "      <td>6/26/2017</td>\n",
       "      <td>26</td>\n",
       "    </tr>\n",
       "    <tr>\n",
       "      <th>1785</th>\n",
       "      <td>6/27/2017</td>\n",
       "      <td>27</td>\n",
       "    </tr>\n",
       "    <tr>\n",
       "      <th>1788</th>\n",
       "      <td>6/28/2017</td>\n",
       "      <td>28</td>\n",
       "    </tr>\n",
       "    <tr>\n",
       "      <th>1798</th>\n",
       "      <td>6/29/2017</td>\n",
       "      <td>29</td>\n",
       "    </tr>\n",
       "    <tr>\n",
       "      <th>1804</th>\n",
       "      <td>6/30/2017</td>\n",
       "      <td>30</td>\n",
       "    </tr>\n",
       "  </tbody>\n",
       "</table>\n",
       "<p>476 rows × 2 columns</p>\n",
       "</div>"
      ],
      "text/plain": [
       "     ReturnDate  month-to-date count\n",
       "0     1/18/2015                   18\n",
       "2     1/21/2015                   21\n",
       "3     1/22/2015                   22\n",
       "4      2/2/2015                    2\n",
       "5     2/15/2015                   15\n",
       "...         ...                  ...\n",
       "1781  6/26/2017                   26\n",
       "1785  6/27/2017                   27\n",
       "1788  6/28/2017                   28\n",
       "1798  6/29/2017                   29\n",
       "1804  6/30/2017                   30\n",
       "\n",
       "[476 rows x 2 columns]"
      ]
     },
     "execution_count": 12,
     "metadata": {},
     "output_type": "execute_result"
    }
   ],
   "source": [
    "df_prb4_rawdates=pd.DataFrame(order_returns['ReturnDate'])\n",
    "df_prb4_rawdates['month-to-date count']=pd.to_datetime(order_returns['ReturnDate']).apply(lambda x:x.day)\n",
    "df_prb4_rawdates.drop_duplicates()"
   ]
  },
  {
   "cell_type": "markdown",
   "metadata": {
    "id": "lfX-WYlLscQD"
   },
   "source": [
    "**PROBLEM 5**: Fetch the top selling model and it's sale value, for each subcategory"
   ]
  },
  {
   "cell_type": "code",
   "execution_count": 13,
   "metadata": {
    "executionInfo": {
     "elapsed": 93,
     "status": "ok",
     "timestamp": 1701567964995,
     "user": {
      "displayName": "Busigence Careers",
      "userId": "02805263613935437233"
     },
     "user_tz": -330
    },
    "id": "DAba-Qo-scQD"
   },
   "outputs": [
    {
     "data": {
      "text/html": [
       "<div>\n",
       "<style scoped>\n",
       "    .dataframe tbody tr th:only-of-type {\n",
       "        vertical-align: middle;\n",
       "    }\n",
       "\n",
       "    .dataframe tbody tr th {\n",
       "        vertical-align: top;\n",
       "    }\n",
       "\n",
       "    .dataframe thead th {\n",
       "        text-align: right;\n",
       "    }\n",
       "</style>\n",
       "<table border=\"1\" class=\"dataframe\">\n",
       "  <thead>\n",
       "    <tr style=\"text-align: right;\">\n",
       "      <th></th>\n",
       "      <th>ProductPrice</th>\n",
       "      <th>subCat</th>\n",
       "    </tr>\n",
       "    <tr>\n",
       "      <th>ProductSubcategoryKey</th>\n",
       "      <th></th>\n",
       "      <th></th>\n",
       "    </tr>\n",
       "  </thead>\n",
       "  <tbody>\n",
       "    <tr>\n",
       "      <th>1</th>\n",
       "      <td>3399.9900</td>\n",
       "      <td>Mountain Bikes</td>\n",
       "    </tr>\n",
       "    <tr>\n",
       "      <th>2</th>\n",
       "      <td>3578.2700</td>\n",
       "      <td>Road Bikes</td>\n",
       "    </tr>\n",
       "    <tr>\n",
       "      <th>3</th>\n",
       "      <td>2384.0700</td>\n",
       "      <td>Touring Bikes</td>\n",
       "    </tr>\n",
       "    <tr>\n",
       "      <th>19</th>\n",
       "      <td>8.6442</td>\n",
       "      <td>Caps</td>\n",
       "    </tr>\n",
       "    <tr>\n",
       "      <th>20</th>\n",
       "      <td>23.5481</td>\n",
       "      <td>Gloves</td>\n",
       "    </tr>\n",
       "    <tr>\n",
       "      <th>21</th>\n",
       "      <td>53.9900</td>\n",
       "      <td>Jerseys</td>\n",
       "    </tr>\n",
       "    <tr>\n",
       "      <th>22</th>\n",
       "      <td>69.9900</td>\n",
       "      <td>Shorts</td>\n",
       "    </tr>\n",
       "    <tr>\n",
       "      <th>23</th>\n",
       "      <td>8.9900</td>\n",
       "      <td>Socks</td>\n",
       "    </tr>\n",
       "    <tr>\n",
       "      <th>25</th>\n",
       "      <td>63.5000</td>\n",
       "      <td>Vests</td>\n",
       "    </tr>\n",
       "    <tr>\n",
       "      <th>26</th>\n",
       "      <td>120.0000</td>\n",
       "      <td>Bike Racks</td>\n",
       "    </tr>\n",
       "    <tr>\n",
       "      <th>27</th>\n",
       "      <td>159.0000</td>\n",
       "      <td>Bike Stands</td>\n",
       "    </tr>\n",
       "    <tr>\n",
       "      <th>28</th>\n",
       "      <td>9.9900</td>\n",
       "      <td>Bottles and Cages</td>\n",
       "    </tr>\n",
       "    <tr>\n",
       "      <th>29</th>\n",
       "      <td>7.9500</td>\n",
       "      <td>Cleaners</td>\n",
       "    </tr>\n",
       "    <tr>\n",
       "      <th>30</th>\n",
       "      <td>21.9800</td>\n",
       "      <td>Fenders</td>\n",
       "    </tr>\n",
       "    <tr>\n",
       "      <th>31</th>\n",
       "      <td>34.9900</td>\n",
       "      <td>Helmets</td>\n",
       "    </tr>\n",
       "    <tr>\n",
       "      <th>32</th>\n",
       "      <td>54.9900</td>\n",
       "      <td>Hydration Packs</td>\n",
       "    </tr>\n",
       "    <tr>\n",
       "      <th>37</th>\n",
       "      <td>35.0000</td>\n",
       "      <td>Tires and Tubes</td>\n",
       "    </tr>\n",
       "  </tbody>\n",
       "</table>\n",
       "</div>"
      ],
      "text/plain": [
       "                       ProductPrice             subCat\n",
       "ProductSubcategoryKey                                 \n",
       "1                         3399.9900     Mountain Bikes\n",
       "2                         3578.2700         Road Bikes\n",
       "3                         2384.0700      Touring Bikes\n",
       "19                           8.6442               Caps\n",
       "20                          23.5481             Gloves\n",
       "21                          53.9900            Jerseys\n",
       "22                          69.9900             Shorts\n",
       "23                           8.9900              Socks\n",
       "25                          63.5000              Vests\n",
       "26                         120.0000         Bike Racks\n",
       "27                         159.0000        Bike Stands\n",
       "28                           9.9900  Bottles and Cages\n",
       "29                           7.9500           Cleaners\n",
       "30                          21.9800            Fenders\n",
       "31                          34.9900            Helmets\n",
       "32                          54.9900    Hydration Packs\n",
       "37                          35.0000    Tires and Tubes"
      ]
     },
     "execution_count": 13,
     "metadata": {},
     "output_type": "execute_result"
    }
   ],
   "source": [
    "df_prb5_subkeys=product_subcategories[[\"ProductSubcategoryKey\",\"SubcategoryName\"]].set_index(\"ProductSubcategoryKey\")\n",
    "top_Qty=sales #[sales['OrderQuantity'].apply(lambda x:x==sales.OrderQuantity.max())]\n",
    "df_prb5_priced=products[products.ProductKey.apply(lambda x:x in list(set(top_Qty.ProductKey)))][[\"ProductPrice\",\"ProductSubcategoryKey\"]].sort_values(by=\"ProductSubcategoryKey\").reset_index(drop=True)\n",
    "df_prb5_priced=df_prb5_priced.groupby(\"ProductSubcategoryKey\").max()\n",
    "df_prb5_priced[\"subCat\"]=df_prb5_priced.index.map(lambda x: df_prb5_subkeys.to_dict()['SubcategoryName'][x])\n",
    "df_prb5_priced"
   ]
  },
  {
   "cell_type": "markdown",
   "metadata": {
    "id": "pbFs5ZU3scQD"
   },
   "source": [
    "************************************************ SECTION: A ends *******************************************"
   ]
  },
  {
   "cell_type": "markdown",
   "metadata": {
    "id": "XVuZkRTcscQE"
   },
   "source": [
    "Refer & Use Orchestra.json to answer problem 6-8 below"
   ]
  },
  {
   "cell_type": "markdown",
   "metadata": {
    "id": "wRd2HPq1scQE"
   },
   "source": [
    "************************************************ SECTION: B starts *******************************************"
   ]
  },
  {
   "cell_type": "markdown",
   "metadata": {
    "id": "Tlv8DPnSscQE"
   },
   "source": [
    "**PROBLEM 6**: Display the instrument played by Lehmann Caroline"
   ]
  },
  {
   "cell_type": "code",
   "execution_count": 34,
   "metadata": {
    "executionInfo": {
     "elapsed": 92,
     "status": "ok",
     "timestamp": 1701567964995,
     "user": {
      "displayName": "Busigence Careers",
      "userId": "02805263613935437233"
     },
     "user_tz": -330
    },
    "id": "GjItj6azscQE"
   },
   "outputs": [
    {
     "name": "stdout",
     "output_type": "stream",
     "text": [
      "Lehmann Caroline does not appear as a soloist.\n"
     ]
    }
   ],
   "source": [
    "import json\n",
    "\n",
    "file_path=r\"C:\\Users\\bhava\\Desktop\\BUSIGENCE\\datasets\\orchestra.json\"\n",
    "# Load JSON data\n",
    "with open(file_path, 'r',encoding='utf-8') as file:\n",
    "    data = json.load(file)\n",
    "# Extract the instrument played by Lehmann Caroline\n",
    "instrument_played = None\n",
    "for work in data['programs'][0]['works']:\n",
    "    for soloist in work.get('soloists', []):\n",
    "        if soloist['soloistName'] == 'Lehmann, Caroline':\n",
    "            instrument_played = soloist.get('soloistInstrument', None)\n",
    "            break\n",
    "\n",
    "# Display the result\n",
    "if instrument_played:\n",
    "    print(f\"Instrument played by Lehmann Caroline: {instrument_played}\")\n",
    "else:\n",
    "    print(\"Lehmann Caroline does not appear as a soloist.\")"
   ]
  },
  {
   "cell_type": "markdown",
   "metadata": {
    "id": "vi3Wrk7AscQF"
   },
   "source": [
    "**PROBLEM 7**: Display all vocalists"
   ]
  },
  {
   "cell_type": "code",
   "execution_count": 35,
   "metadata": {
    "executionInfo": {
     "elapsed": 87,
     "status": "ok",
     "timestamp": 1701567964995,
     "user": {
      "displayName": "Busigence Careers",
      "userId": "02805263613935437233"
     },
     "user_tz": -330
    },
    "id": "fwxKJYtSscQF"
   },
   "outputs": [
    {
     "name": "stdout",
     "output_type": "stream",
     "text": [
      "All Vocalists:\n",
      "Horn, Charles Edward\n",
      "Otto, Antoinette\n"
     ]
    }
   ],
   "source": [
    "vocalists = set()\n",
    "for work in data['programs'][0]['works']:\n",
    "    for soloist in work.get('soloists', []):\n",
    "        if soloist['soloistRoles'] == 'S':\n",
    "            vocalists.add(soloist['soloistName'])\n",
    "\n",
    "# Display the result\n",
    "if vocalists:\n",
    "    print(\"All Vocalists:\")\n",
    "    for vocalist in vocalists:\n",
    "        print(vocalist)\n",
    "else:\n",
    "    print(\"No vocalists found.\")"
   ]
  },
  {
   "cell_type": "markdown",
   "metadata": {
    "id": "DA-j-QgrscQF"
   },
   "source": [
    "**PROBLEM 8**: Display orchestra played under program id 2561"
   ]
  },
  {
   "cell_type": "code",
   "execution_count": 36,
   "metadata": {
    "executionInfo": {
     "elapsed": 83,
     "status": "ok",
     "timestamp": 1701567964996,
     "user": {
      "displayName": "Busigence Careers",
      "userId": "02805263613935437233"
     },
     "user_tz": -330
    },
    "id": "eMaPSxNZscQF"
   },
   "outputs": [
    {
     "name": "stdout",
     "output_type": "stream",
     "text": [
      "Orchestra played under Program ID 2561: New York Philharmonic\n"
     ]
    }
   ],
   "source": [
    "# Specify the program ID to filter\n",
    "target_program_id = \"2561\"\n",
    "\n",
    "# Find the program with the specified program ID\n",
    "target_program = None\n",
    "for program in data['programs']:\n",
    "    if program['programID'] == target_program_id:\n",
    "        target_program = program\n",
    "        break\n",
    "\n",
    "# Display the orchestra played under the specified program ID\n",
    "if target_program:\n",
    "    orchestra = target_program.get('orchestra', None)\n",
    "    if orchestra:\n",
    "        print(f\"Orchestra played under Program ID {target_program_id}: {orchestra}\")\n",
    "    else:\n",
    "        print(f\"No orchestra information found for Program ID {target_program_id}.\")\n",
    "else:\n",
    "    print(f\"No program found with Program ID {target_program_id}.\")"
   ]
  },
  {
   "cell_type": "markdown",
   "metadata": {
    "id": "VjbV0GiuscQG"
   },
   "source": [
    "************************************************ SECTION: B ends *******************************************"
   ]
  },
  {
   "cell_type": "markdown",
   "metadata": {
    "id": "dPiWdbUNscQG"
   },
   "source": [
    "Refer & Use Orchestra.xml to answer problem 9-10 below"
   ]
  },
  {
   "cell_type": "markdown",
   "metadata": {
    "id": "S5erDhrmscQG"
   },
   "source": [
    "************************************************ SECTION: C starts *******************************************"
   ]
  },
  {
   "cell_type": "markdown",
   "metadata": {
    "id": "ainIvRPOscQG"
   },
   "source": [
    "**PROBLEM 9**: Display locations used for event at time 8:15 PM"
   ]
  },
  {
   "cell_type": "code",
   "execution_count": 17,
   "metadata": {
    "executionInfo": {
     "elapsed": 81,
     "status": "ok",
     "timestamp": 1701567964996,
     "user": {
      "displayName": "Busigence Careers",
      "userId": "02805263613935437233"
     },
     "user_tz": -330
    },
    "id": "Y8mXEG-KscQH"
   },
   "outputs": [],
   "source": [
    "#python3/pyspark3 code here"
   ]
  },
  {
   "cell_type": "markdown",
   "metadata": {
    "id": "lJV0wGbSscQH"
   },
   "source": [
    "**PROBLEM 10**: Display total number of programs"
   ]
  },
  {
   "cell_type": "code",
   "execution_count": 18,
   "metadata": {
    "executionInfo": {
     "elapsed": 80,
     "status": "ok",
     "timestamp": 1701567964997,
     "user": {
      "displayName": "Busigence Careers",
      "userId": "02805263613935437233"
     },
     "user_tz": -330
    },
    "id": "gDPcxHqkscQH"
   },
   "outputs": [],
   "source": [
    "#python3/pyspark3 code here"
   ]
  },
  {
   "cell_type": "markdown",
   "metadata": {
    "id": "DEFCng54scQH"
   },
   "source": [
    "************************************************ SECTION: C ends *******************************************"
   ]
  },
  {
   "cell_type": "markdown",
   "metadata": {
    "id": "KaC38EliscQI"
   },
   "source": [
    "Refer sales database tables (eight CSVs from section A) and sms.txt"
   ]
  },
  {
   "cell_type": "markdown",
   "metadata": {
    "id": "_mzGUGFjscQI"
   },
   "source": [
    "************************************************ SECTION: D starts *******************************************"
   ]
  },
  {
   "cell_type": "markdown",
   "metadata": {
    "id": "qYwIaE8HscQI"
   },
   "source": [
    "**PROBLEM 11**: Study article https://en.wikipedia.org/wiki/Davies–Bouldin_index\n",
    "\n",
    "Write code to create five unsupervised clusters for customers (table: customers), followed by calculating Davies–Bouldin index for each created cluster (you can't use in-built library for Davies–Bouldin index)"
   ]
  },
  {
   "cell_type": "code",
   "execution_count": 19,
   "metadata": {
    "executionInfo": {
     "elapsed": 76,
     "status": "ok",
     "timestamp": 1701567964997,
     "user": {
      "displayName": "Busigence Careers",
      "userId": "02805263613935437233"
     },
     "user_tz": -330
    },
    "id": "SNiIYjtuscQJ"
   },
   "outputs": [],
   "source": [
    "#python3/pyspark3 code here"
   ]
  },
  {
   "cell_type": "code",
   "execution_count": 20,
   "metadata": {},
   "outputs": [
    {
     "data": {
      "text/plain": [
       "Index(['CustomerKey', 'Prefix', 'FirstName', 'LastName', 'BirthDate',\n",
       "       'MaritalStatus', 'Gender', 'AnnualIncome', 'TotalChildren',\n",
       "       'EducationLevel', 'Occupation', 'HomeOwner'],\n",
       "      dtype='object')"
      ]
     },
     "execution_count": 20,
     "metadata": {},
     "output_type": "execute_result"
    }
   ],
   "source": [
    "customers.columns"
   ]
  },
  {
   "cell_type": "code",
   "execution_count": 21,
   "metadata": {},
   "outputs": [
    {
     "data": {
      "text/plain": [
       "Index(['ProductKey', 'ProductSubcategoryKey', 'ProductSKU', 'ProductName',\n",
       "       'ModelName', 'ProductDescription', 'ProductColor', 'ProductSize',\n",
       "       'ProductStyle', 'ProductCost', 'ProductPrice'],\n",
       "      dtype='object')"
      ]
     },
     "execution_count": 21,
     "metadata": {},
     "output_type": "execute_result"
    }
   ],
   "source": [
    "products.columns"
   ]
  },
  {
   "cell_type": "code",
   "execution_count": 22,
   "metadata": {},
   "outputs": [
    {
     "data": {
      "text/plain": [
       "Index(['OrderDate', 'StockDate', 'OrderNumber', 'ProductKey', 'CustomerKey',\n",
       "       'TerritoryKey', 'OrderLineItem', 'OrderQuantity'],\n",
       "      dtype='object')"
      ]
     },
     "execution_count": 22,
     "metadata": {},
     "output_type": "execute_result"
    }
   ],
   "source": [
    "sales.columns"
   ]
  },
  {
   "cell_type": "markdown",
   "metadata": {
    "id": "G3lB-Y-xscQJ"
   },
   "source": [
    "**PROBLEM 12**: Prepare dataset (train-60%,validate-20%,test-20%) with customers, customers attributes and sales value (for orders placed by these customers). Use PySpark MLLib to develop a regression model to predict sales value for new customers (test-20%)"
   ]
  },
  {
   "cell_type": "markdown",
   "metadata": {
    "id": "NzFEnh07scQJ"
   },
   "source": [
    "**PROBLEM 13**: Fetch count of stop-words for ham & spam (compute count of stop-words for each record on worker nodes and aggregate for count ham & spam on driver node)\n",
    "\n",
    "---\n",
    "Stopwords are the words in any language which does not add much meaning to a sentence. They can safely be ignored without sacrificing the meaning of the sentence"
   ]
  },
  {
   "cell_type": "code",
   "execution_count": 23,
   "metadata": {
    "executionInfo": {
     "elapsed": 74,
     "status": "ok",
     "timestamp": 1701567964999,
     "user": {
      "displayName": "Busigence Careers",
      "userId": "02805263613935437233"
     },
     "user_tz": -330
    },
    "id": "ruaiHIFqvYfS"
   },
   "outputs": [],
   "source": [
    "#python3/pyspark3 code here"
   ]
  },
  {
   "cell_type": "markdown",
   "metadata": {
    "id": "hT5RFCZLscQK"
   },
   "source": [
    "************************************************ SECTION: D ends *******************************************"
   ]
  },
  {
   "cell_type": "markdown",
   "metadata": {
    "id": "ys_egvZtscQK"
   },
   "source": [
    "************************************************ SECTION: E starts *******************************************"
   ]
  },
  {
   "cell_type": "markdown",
   "metadata": {
    "id": "A-PGNf0-scQK"
   },
   "source": [
    "Review JSON snippet below"
   ]
  },
  {
   "cell_type": "code",
   "execution_count": 24,
   "metadata": {
    "colab": {
     "base_uri": "https://localhost:8080/"
    },
    "executionInfo": {
     "elapsed": 73,
     "status": "ok",
     "timestamp": 1701567964999,
     "user": {
      "displayName": "Busigence Careers",
      "userId": "02805263613935437233"
     },
     "user_tz": -330
    },
    "id": "kRcqskh5scQK",
    "outputId": "a28f6593-436e-406b-f9de-3242c2d63f5c"
   },
   "outputs": [
    {
     "data": {
      "text/plain": [
       "[{'payee': {'type': {'location': [{'country': 'usa', 'code': '1'}]}}},\n",
       " {'payee': {'type': {'location': [{'country': 'india', 'code': '2'}]}}}]"
      ]
     },
     "execution_count": 24,
     "metadata": {},
     "output_type": "execute_result"
    }
   ],
   "source": [
    "[\n",
    "  {\n",
    "    \"payee\": {\n",
    "      \"type\": {\n",
    "        \"location\": [\n",
    "          {\n",
    "            \"country\": \"usa\",\n",
    "            \"code\": \"1\"\n",
    "          }\n",
    "        ]\n",
    "      }\n",
    "    }\n",
    "  },\n",
    "  {\n",
    "    \"payee\": {\n",
    "      \"type\": {\n",
    "        \"location\": [\n",
    "          {\n",
    "            \"country\": \"india\",\n",
    "            \"code\": \"2\"\n",
    "          }\n",
    "        ]\n",
    "      }\n",
    "    }\n",
    "  }\n",
    "]"
   ]
  },
  {
   "cell_type": "markdown",
   "metadata": {
    "id": "BRDqXaL5scQL"
   },
   "source": [
    "**PROBLEM 14**: Write a code to fetch value for field \"code\" for india"
   ]
  },
  {
   "cell_type": "code",
   "execution_count": 25,
   "metadata": {
    "executionInfo": {
     "elapsed": 67,
     "status": "ok",
     "timestamp": 1701567964999,
     "user": {
      "displayName": "Busigence Careers",
      "userId": "02805263613935437233"
     },
     "user_tz": -330
    },
    "id": "W45aHXrMscQL"
   },
   "outputs": [
    {
     "name": "stdout",
     "output_type": "stream",
     "text": [
      "The \"code\" for India is: 2\n"
     ]
    }
   ],
   "source": [
    "json_data=[{'payee': {'type': {'location': [{'country': 'usa', 'code': '1'}]}}},\n",
    " {'payee': {'type': {'location': [{'country': 'india', 'code': '2'}]}}}]\n",
    "for item in json_data:\n",
    "    if \"payee\" in item and \"type\" in item[\"payee\"] and \"location\" in item[\"payee\"][\"type\"]:\n",
    "        for location in item[\"payee\"][\"type\"][\"location\"]:\n",
    "            if \"country\" in location and location[\"country\"].lower() == \"india\":\n",
    "                code_for_india = location.get(\"code\")\n",
    "                print(f'The \"code\" for India is: {code_for_india}')"
   ]
  },
  {
   "cell_type": "markdown",
   "metadata": {
    "id": "0v-zdzn0scQL"
   },
   "source": [
    "Review JSON snippet below"
   ]
  },
  {
   "cell_type": "code",
   "execution_count": 26,
   "metadata": {
    "colab": {
     "base_uri": "https://localhost:8080/"
    },
    "executionInfo": {
     "elapsed": 65,
     "status": "ok",
     "timestamp": 1701567964999,
     "user": {
      "displayName": "Busigence Careers",
      "userId": "02805263613935437233"
     },
     "user_tz": -330
    },
    "id": "xAbdjvQbscQM",
    "outputId": "a2c81b5d-0933-4ae9-b4b9-fe2dff6edaa2"
   },
   "outputs": [
    {
     "data": {
      "text/plain": [
       "[{'sequence': 1,\n",
       "  'careTeamSequence': [1],\n",
       "  'productOrService': {'coding': [{'system': 'http://example.org/fhir/CodeSystem/ex-visionservice',\n",
       "     'code': 'exam'}]},\n",
       "  'servicedDate': '2014-08-16',\n",
       "  'unitPrice': {'value': 80, 'currency': 'USD'},\n",
       "  'net': {'value': 80, 'currency': 'USD'}}]"
      ]
     },
     "execution_count": 26,
     "metadata": {},
     "output_type": "execute_result"
    }
   ],
   "source": [
    "[\n",
    "  {\n",
    "    \"sequence\": 1,\n",
    "    \"careTeamSequence\": [\n",
    "      1\n",
    "    ],\n",
    "    \"productOrService\": {\n",
    "      \"coding\": [\n",
    "        {\n",
    "          \"system\": \"http://example.org/fhir/CodeSystem/ex-visionservice\",\n",
    "          \"code\": \"exam\"\n",
    "        }\n",
    "      ]\n",
    "    },\n",
    "    \"servicedDate\": \"2014-08-16\",\n",
    "    \"unitPrice\": {\n",
    "      \"value\": 80,\n",
    "      \"currency\": \"USD\"\n",
    "    },\n",
    "    \"net\": {\n",
    "      \"value\": 80,\n",
    "      \"currency\": \"USD\"\n",
    "    }\n",
    "  }\n",
    "]"
   ]
  },
  {
   "cell_type": "markdown",
   "metadata": {
    "id": "n3POzeVescQN"
   },
   "source": [
    "**PROBLEM 15**: Write a code to update value (to a new value: 85) for field \"unitPrice\" for serviceDate 2014-08-16"
   ]
  },
  {
   "cell_type": "code",
   "execution_count": 27,
   "metadata": {
    "executionInfo": {
     "elapsed": 51,
     "status": "ok",
     "timestamp": 1701567965000,
     "user": {
      "displayName": "Busigence Careers",
      "userId": "02805263613935437233"
     },
     "user_tz": -330
    },
    "id": "6sepzhCsscQN"
   },
   "outputs": [
    {
     "name": "stdout",
     "output_type": "stream",
     "text": [
      "[\n",
      "  {\n",
      "    \"sequence\": 1,\n",
      "    \"careTeamSequence\": [\n",
      "      1\n",
      "    ],\n",
      "    \"productOrService\": {\n",
      "      \"coding\": [\n",
      "        {\n",
      "          \"system\": \"http://example.org/fhir/CodeSystem/ex-visionservice\",\n",
      "          \"code\": \"exam\"\n",
      "        }\n",
      "      ]\n",
      "    },\n",
      "    \"servicedDate\": \"2014-08-16\",\n",
      "    \"unitPrice\": {\n",
      "      \"value\": 85,\n",
      "      \"currency\": \"USD\"\n",
      "    },\n",
      "    \"net\": {\n",
      "      \"value\": 80,\n",
      "      \"currency\": \"USD\"\n",
      "    }\n",
      "  }\n",
      "]\n"
     ]
    }
   ],
   "source": [
    "json_data=[{'sequence': 1,\n",
    "  'careTeamSequence': [1],\n",
    "  'productOrService': {'coding': [{'system': 'http://example.org/fhir/CodeSystem/ex-visionservice',\n",
    "     'code': 'exam'}]},\n",
    "  'servicedDate': '2014-08-16',\n",
    "  'unitPrice': {'value': 80, 'currency': 'USD'},\n",
    "  'net': {'value': 80, 'currency': 'USD'}}]\n",
    "target_date = \"2014-08-16\"\n",
    "new_unit_price_value = 85\n",
    "\n",
    "for item in json_data:\n",
    "    if \"servicedDate\" in item and item[\"servicedDate\"] == target_date and \"unitPrice\" in item:\n",
    "        item[\"unitPrice\"][\"value\"] = new_unit_price_value\n",
    "\n",
    "# Print the updated JSON data\n",
    "print(json.dumps(json_data, indent=2))"
   ]
  },
  {
   "cell_type": "markdown",
   "metadata": {
    "id": "tNLbky--ch6l"
   },
   "source": [
    "************************************************ SECTION: E ends *******************************************"
   ]
  },
  {
   "cell_type": "markdown",
   "metadata": {
    "id": "yo89hGMgGUft"
   },
   "source": [
    "************************************************ SECTION: F starts *******************************************"
   ]
  },
  {
   "cell_type": "markdown",
   "metadata": {
    "id": "QjQEvf3PIZPZ"
   },
   "source": [
    "**PROBLEM 16**: Write a code to process input to produce output as below\n",
    "<br>\n",
    "input = ['Apple', 'Mango']\n",
    "<br>\n",
    "new element introduced: Gauva\n",
    "<br>\n",
    "ouput = ['Apple', 'Mango','G','a','u','v','a']"
   ]
  },
  {
   "cell_type": "code",
   "execution_count": 28,
   "metadata": {
    "executionInfo": {
     "elapsed": 50,
     "status": "ok",
     "timestamp": 1701567965001,
     "user": {
      "displayName": "Busigence Careers",
      "userId": "02805263613935437233"
     },
     "user_tz": -330
    },
    "id": "Xr2Q3IUOJuoO"
   },
   "outputs": [
    {
     "data": {
      "text/plain": [
       "['Apple', 'Mango', 'G', 'a', 'u', 'v', 'a']"
      ]
     },
     "execution_count": 28,
     "metadata": {},
     "output_type": "execute_result"
    }
   ],
   "source": [
    "ip = ['Apple', 'Mango']\n",
    "def func(ip):\n",
    "    new_element=\"Gauva\"\n",
    "    atomic=list(new_element)\n",
    "    ip=ip+atomic\n",
    "    return ip\n",
    "    \n",
    "    \n",
    "func(ip)\n"
   ]
  },
  {
   "cell_type": "markdown",
   "metadata": {
    "id": "HVIM-WmlLn3Q"
   },
   "source": [
    "**PROBLEM 17**: Write a code to process inputs to produce output as below\n",
    "<br>\n",
    "input1 = ['1', '2', '3']\n",
    "<br>\n",
    "input2 = ['a', 'b', 'c']\n",
    "<br>\n",
    "input3 = range(5)\n",
    "<br>\n",
    "ouput = [(1, 'a', 0), (2, 'b', 1), (3, 'c', 2), ('?', '?', 3), ('?', '?', 4)]\n",
    "<br>\n",
    "<br>\n",
    "Explanation:\n",
    "Here we yield five tuples with elements from input1, input2, and input3. The iteration only stops when input3 is exhausted. The missing elements from input1 and input2 are filled with a question mark ?, which is what you specified with fillvalue."
   ]
  },
  {
   "cell_type": "code",
   "execution_count": 29,
   "metadata": {
    "executionInfo": {
     "elapsed": 49,
     "status": "ok",
     "timestamp": 1701567965001,
     "user": {
      "displayName": "Busigence Careers",
      "userId": "02805263613935437233"
     },
     "user_tz": -330
    },
    "id": "FmI1KoHMNHS5"
   },
   "outputs": [
    {
     "data": {
      "text/plain": [
       "[(1, 'a', 0), (2, 'b', 1), (3, 'c', 2), ('?', '?', 3), ('?', '?', 4)]"
      ]
     },
     "execution_count": 29,
     "metadata": {},
     "output_type": "execute_result"
    }
   ],
   "source": [
    "import itertools\n",
    "\n",
    "input1 = ['1', '2', '3']\n",
    "input2 = ['a', 'b', 'c']\n",
    "input3 = range(5)\n",
    "input1 = list(map(int,input1))\n",
    "list(itertools.zip_longest(input1,input2,input3,fillvalue='?'))"
   ]
  },
  {
   "cell_type": "markdown",
   "metadata": {
    "id": "dM3m_q96QPZi"
   },
   "source": [
    "**PROBLEM 19**: Given a non-empty array of integers nums, every element appears twice except for one. Find that single one.\n",
    "<br>\n",
    "You must implement a solution with a linear runtime complexity and use only constant extra space.\n",
    "<br>\n",
    "<br>\n",
    "Example 1:\n",
    "<br>\n",
    "Input: nums = [2,2,1]\n",
    "<br>\n",
    "Output: 1\n",
    "<br>\n",
    "<br>\n",
    "\n",
    "Example 2:\n",
    "<br>\n",
    "Input: nums = [4,1,2,1,2]\n",
    "<br>\n",
    "Output: 4\n",
    "<br>\n",
    "<br>\n",
    "\n",
    "Example 3:\n",
    "<br>\n",
    "Input: nums = [1]\n",
    "<br>\n",
    "Output: 1\n",
    "<br>\n",
    "<br>\n",
    "\n",
    "Constraints:\n",
    "\n",
    "    1 <= nums.length <= 3 * pow(10,4)\n",
    "    \n",
    "    -3 * pow(10,4) <= nums[i] <= 3 * pow(10,4)\n",
    "    \n",
    "    Each element in the array appears twice except for one element which appears only once."
   ]
  },
  {
   "cell_type": "code",
   "execution_count": 31,
   "metadata": {},
   "outputs": [
    {
     "name": "stdout",
     "output_type": "stream",
     "text": [
      "4\n"
     ]
    }
   ],
   "source": [
    "nums2 = [4, 1, 2, 1, 2]\n",
    "\n",
    "def unique(nums2):\n",
    "    temp = 0\n",
    "    for i in nums2:\n",
    "        temp = temp ^ i\n",
    "    return temp\n",
    "\n",
    "print(unique(nums2))"
   ]
  },
  {
   "cell_type": "markdown",
   "metadata": {
    "id": "gF3wgQNgTpCt"
   },
   "source": [
    "**PROBLEM 20**:\n",
    "\n",
    "![image.png](data:image/png;base64,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)\n",
    "\n",
    "<br>\n",
    "id is the primary key (column with unique values) for this table.\n",
    "Each row of this table indicates the ID and name of a customer.\n",
    "<br>\n",
    "<br>\n",
    "\n",
    "![image.png](data:image/png;base64,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)\n",
    "\n",
    "<br>\n",
    "id is the primary key (column with unique values) for this table.\n",
    "customerId is a foreign key (reference columns) of the ID from the Customers table.\n",
    "Each row of this table indicates the ID of an order and the ID of the customer who ordered it.\n",
    "<br>\n",
    "<br>\n",
    "Write a solution to find all customers who never order anything.\n",
    "<br>\n",
    "Return the result table in any order."
   ]
  },
  {
   "cell_type": "code",
   "execution_count": 32,
   "metadata": {
    "executionInfo": {
     "elapsed": 46,
     "status": "ok",
     "timestamp": 1701567965004,
     "user": {
      "displayName": "Busigence Careers",
      "userId": "02805263613935437233"
     },
     "user_tz": -330
    },
    "id": "ZJzZXjuDS42D"
   },
   "outputs": [
    {
     "data": {
      "text/plain": [
       "0    C\n",
       "1    E\n",
       "2    F\n",
       "3    G\n",
       "Name: customer_name, dtype: object"
      ]
     },
     "execution_count": 32,
     "metadata": {},
     "output_type": "execute_result"
    }
   ],
   "source": [
    "#lets say:\n",
    "\n",
    "data = [[1, 'A'], [2, 'B'], [4, 'C'], [5, 'D'], [6, 'E'], [7, 'F'], [8, 'G']]\n",
    "visits = pd.DataFrame(data, columns=['visit_id', 'customer_name']).astype({'visit_id':'Int64', 'customer_name':'str'})\n",
    "data = [[2, 5], [3, 5], [9, 5], [12, 1], [13, 2]]\n",
    "transactions = pd.DataFrame(data, columns=['transaction_id', 'visit_id']).astype({'transaction_id':'Int64', 'visit_id':'Int64'})\n",
    "\n",
    "not_ordered=set(visits.visit_id).difference(transactions.visit_id)\n",
    "visits[visits.visit_id.apply(lambda x: x in not_ordered)].customer_name.reset_index(drop=True)"
   ]
  },
  {
   "cell_type": "markdown",
   "metadata": {
    "id": "0CZNEQIHscQO"
   },
   "source": [
    "********************************************* Test ends here **************************************************"
   ]
  }
 ],
 "metadata": {
  "colab": {
   "provenance": []
  },
  "kernelspec": {
   "display_name": "Python 3 (ipykernel)",
   "language": "python",
   "name": "python3"
  },
  "language_info": {
   "codemirror_mode": {
    "name": "ipython",
    "version": 3
   },
   "file_extension": ".py",
   "mimetype": "text/x-python",
   "name": "python",
   "nbconvert_exporter": "python",
   "pygments_lexer": "ipython3",
   "version": "3.9.12"
  }
 },
 "nbformat": 4,
 "nbformat_minor": 1
}
